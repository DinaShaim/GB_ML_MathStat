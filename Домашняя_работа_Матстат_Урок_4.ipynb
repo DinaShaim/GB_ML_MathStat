{
  "nbformat": 4,
  "nbformat_minor": 0,
  "metadata": {
    "colab": {
      "name": "Домашняя работа Матстат Урок 4.ipynb",
      "provenance": [],
      "collapsed_sections": [],
      "include_colab_link": true
    },
    "kernelspec": {
      "display_name": "Python 3",
      "language": "python",
      "name": "python3"
    }
  },
  "cells": [
    {
      "cell_type": "markdown",
      "metadata": {
        "id": "view-in-github",
        "colab_type": "text"
      },
      "source": [
        "<a href=\"https://colab.research.google.com/github/DinaShaim/GB_ML_MathStat/blob/main/%D0%94%D0%BE%D0%BC%D0%B0%D1%88%D0%BD%D1%8F%D1%8F_%D1%80%D0%B0%D0%B1%D0%BE%D1%82%D0%B0_%D0%9C%D0%B0%D1%82%D1%81%D1%82%D0%B0%D1%82_%D0%A3%D1%80%D0%BE%D0%BA_4.ipynb\" target=\"_parent\"><img src=\"https://colab.research.google.com/assets/colab-badge.svg\" alt=\"Open In Colab\"/></a>"
      ]
    },
    {
      "cell_type": "markdown",
      "metadata": {
        "id": "npwZYcsXzdm8"
      },
      "source": [
        "## Домашняя работа 4\n",
        "### Непрерывные случайные величины. Функция распределения и плотность распределения вероятностей. Равномерное и нормальное распределение. Центральная предельная теорема"
      ]
    },
    {
      "cell_type": "markdown",
      "metadata": {
        "id": "nyAZkmuJzdnE"
      },
      "source": [
        "**Задание 1** \n",
        "\n",
        "Случайная непрерывная величина A имеет равномерное распределение на промежутке (200, 800]. Найдите ее среднее значение и дисперсию."
      ]
    },
    {
      "cell_type": "markdown",
      "metadata": {
        "id": "QtFn-eBlzdo-"
      },
      "source": [
        "**Решение**\n",
        "\n"
      ]
    },
    {
      "cell_type": "markdown",
      "metadata": {
        "id": "ExcHZPqcNfcg"
      },
      "source": [
        "Обозначим за a и b границы промежутка."
      ]
    },
    {
      "cell_type": "code",
      "metadata": {
        "id": "tG9XA2eeNe82"
      },
      "source": [
        "a = 200\n",
        "b = 800"
      ],
      "execution_count": 12,
      "outputs": []
    },
    {
      "cell_type": "markdown",
      "metadata": {
        "id": "L12KOQjoN3Jz"
      },
      "source": [
        "Расчитаем среднее значение и дисперсию по формулам:"
      ]
    },
    {
      "cell_type": "code",
      "metadata": {
        "colab": {
          "base_uri": "https://localhost:8080/"
        },
        "id": "x56881wEOAZB",
        "outputId": "85dd8736-053c-4ff0-e67a-576ce672c4b5"
      },
      "source": [
        "M = (a + b) / 2\n",
        "M"
      ],
      "execution_count": 13,
      "outputs": [
        {
          "output_type": "execute_result",
          "data": {
            "text/plain": [
              "500.0"
            ]
          },
          "metadata": {
            "tags": []
          },
          "execution_count": 13
        }
      ]
    },
    {
      "cell_type": "code",
      "metadata": {
        "colab": {
          "base_uri": "https://localhost:8080/"
        },
        "id": "nNTG7kzBORDk",
        "outputId": "1096b8fd-edcd-4091-b318-82093414c8b0"
      },
      "source": [
        "D = (b-a)**2/12\n",
        "D"
      ],
      "execution_count": 14,
      "outputs": [
        {
          "output_type": "execute_result",
          "data": {
            "text/plain": [
              "30000.0"
            ]
          },
          "metadata": {
            "tags": []
          },
          "execution_count": 14
        }
      ]
    },
    {
      "cell_type": "markdown",
      "metadata": {
        "id": "zIjWpeIhOrtG"
      },
      "source": [
        "**Задание 2** \n",
        "\n",
        "О случайной непрерывной равномерно распределенной величине B известно, что ее дисперсия равна 0.2.\n",
        "Можно ли найти правую границу величины B и ее среднее значение зная, что левая граница равна 0.5?\n",
        "Если да, найдите ее."
      ]
    },
    {
      "cell_type": "markdown",
      "metadata": {
        "id": "etLHi2beOsf3"
      },
      "source": [
        "**Решение**"
      ]
    },
    {
      "cell_type": "markdown",
      "metadata": {
        "id": "6099xC4VO2gS"
      },
      "source": [
        "Обозначим известные данные:"
      ]
    },
    {
      "cell_type": "code",
      "metadata": {
        "id": "f7eJd_-ePOAh"
      },
      "source": [
        "D = 0.2\n",
        "a = 0.5"
      ],
      "execution_count": 16,
      "outputs": []
    },
    {
      "cell_type": "code",
      "metadata": {
        "id": "qi5VK5KwRZxZ"
      },
      "source": [
        "import numpy as np\n",
        "import pandas as pd"
      ],
      "execution_count": 17,
      "outputs": []
    },
    {
      "cell_type": "code",
      "metadata": {
        "id": "HWLF1kKNPU4B",
        "colab": {
          "base_uri": "https://localhost:8080/"
        },
        "outputId": "dc922c12-bf90-4c3b-d2a9-fa6744df01b8"
      },
      "source": [
        "b = np.sqrt(D * 12) + a\n",
        "b"
      ],
      "execution_count": 18,
      "outputs": [
        {
          "output_type": "execute_result",
          "data": {
            "text/plain": [
              "2.049193338482967"
            ]
          },
          "metadata": {
            "tags": []
          },
          "execution_count": 18
        }
      ]
    },
    {
      "cell_type": "code",
      "metadata": {
        "colab": {
          "base_uri": "https://localhost:8080/"
        },
        "id": "rmFz-X-RR1Ue",
        "outputId": "78b37b00-f4cf-4147-be5a-c6bf030413de"
      },
      "source": [
        "M = (a + b) / 2\n",
        "M"
      ],
      "execution_count": 19,
      "outputs": [
        {
          "output_type": "execute_result",
          "data": {
            "text/plain": [
              "1.2745966692414834"
            ]
          },
          "metadata": {
            "tags": []
          },
          "execution_count": 19
        }
      ]
    },
    {
      "cell_type": "markdown",
      "metadata": {
        "id": "VFNSY3ZER_17"
      },
      "source": [
        "**Задание 3** \n",
        "\n",
        "Непрерывная случайная величина X распределена нормально и задана плотностью распределения\n",
        "\n",
        "f(x) = (1 / (4 * sqrt(2*pi))) * (exp(-((x+2)**2) / 32))\n",
        "\n",
        "Найдите:\n",
        "\n",
        "а). M(X)\n",
        "\n",
        "б). D(X)\n",
        "\n",
        "в). std(X) (среднее квадратичное отклонение)"
      ]
    },
    {
      "cell_type": "markdown",
      "metadata": {
        "id": "Dt6ymZBzScXF"
      },
      "source": [
        "**Решение**"
      ]
    },
    {
      "cell_type": "markdown",
      "metadata": {
        "id": "xjQNmP_-Sg2f"
      },
      "source": [
        "Нормальное распределение — это распределение вероятностей непрерывной случайной величины  X , плотность вероятности которой подчиняется формуле:\n",
        "\n",
        "$$f(x) = \\frac{1}{\\sigma \\sqrt{2 \\pi}} e ^ {- \\frac{(x - a)^2}{2 \\sigma^2}},$$\n",
        "\n",
        "где $a = M(X), \\; \\sigma^2 = D(X).$\n",
        "\n",
        "Тогда из формулы можно получить значения:\n",
        "\n",
        "$M(X) = -2$\n",
        "\n",
        "$D(X) = 16$\n",
        "\n",
        "$std(X) = 4$\n"
      ]
    },
    {
      "cell_type": "markdown",
      "metadata": {
        "id": "l05EgKcvUtGr"
      },
      "source": [
        "**Задание 4**\n",
        "\n",
        "Рост взрослого населения города X имеет нормальное распределение.\n",
        "Причем, средний рост равен 174 см, а среднее квадратичное отклонение равно 8 см.\n",
        "Какова вероятность того, что случайным образом выбранный взрослый человек имеет рост:\n",
        "\n",
        "1). больше 182 см\n",
        "\n",
        "2). больше 190 см\n",
        "\n",
        "3). от 166 см до 190 см\n",
        "\n",
        "4). от 166 см до 182 см\n",
        "\n",
        "5). от 158 см до 190 см\n",
        "\n",
        "6). не выше 150 см или не ниже 190 см\n",
        "\n",
        "7). не выше 150 см или не ниже 198 см\n",
        "\n",
        "8). ниже 166 см."
      ]
    },
    {
      "cell_type": "markdown",
      "metadata": {
        "id": "Zb-LM0NAWWzg"
      },
      "source": [
        "**Решение**"
      ]
    },
    {
      "cell_type": "markdown",
      "metadata": {
        "id": "2FxDrgnKWaL7"
      },
      "source": [
        "Согласно правилу трех сигм:\n",
        "\n",
        "на отрезке от  −σ  до  +σ  расположено около 68 % наблюдений,\n",
        "\n",
        "от  −2σ  до  +2σ  — 95.4 %,\n",
        "\n",
        "и от  −3σ  до  +3σ  — 99.72 %."
      ]
    },
    {
      "cell_type": "markdown",
      "metadata": {
        "id": "h8BDnjXZWwle"
      },
      "source": [
        "Из условий задачи: $M(X) = 174$, $σ = 8$. \n",
        "\n",
        "Расчитаем далее вероятности по пунктам:"
      ]
    },
    {
      "cell_type": "code",
      "metadata": {
        "colab": {
          "base_uri": "https://localhost:8080/"
        },
        "id": "sQhhidMGXbgQ",
        "outputId": "638ee9c7-cba2-40bf-a4aa-056c1587a3b7"
      },
      "source": [
        "P1 = (100-68)/2\n",
        "P1"
      ],
      "execution_count": 22,
      "outputs": [
        {
          "output_type": "execute_result",
          "data": {
            "text/plain": [
              "16.0"
            ]
          },
          "metadata": {
            "tags": []
          },
          "execution_count": 22
        }
      ]
    },
    {
      "cell_type": "code",
      "metadata": {
        "colab": {
          "base_uri": "https://localhost:8080/"
        },
        "id": "aze73Dy-YDmB",
        "outputId": "03b771b7-f906-4e70-8eec-d4e7886e3deb"
      },
      "source": [
        "P2 = (100-95.4)/2\n",
        "P2"
      ],
      "execution_count": 23,
      "outputs": [
        {
          "output_type": "execute_result",
          "data": {
            "text/plain": [
              "2.299999999999997"
            ]
          },
          "metadata": {
            "tags": []
          },
          "execution_count": 23
        }
      ]
    },
    {
      "cell_type": "code",
      "metadata": {
        "colab": {
          "base_uri": "https://localhost:8080/"
        },
        "id": "WqbcuPg9YELt",
        "outputId": "cf88aaaf-52c1-400d-b24f-6ee80fa0c5c0"
      },
      "source": [
        "P3 = (95.4 - 68)/2 +68\n",
        "P3"
      ],
      "execution_count": 24,
      "outputs": [
        {
          "output_type": "execute_result",
          "data": {
            "text/plain": [
              "81.7"
            ]
          },
          "metadata": {
            "tags": []
          },
          "execution_count": 24
        }
      ]
    },
    {
      "cell_type": "code",
      "metadata": {
        "colab": {
          "base_uri": "https://localhost:8080/"
        },
        "id": "TCGJNGY0YEQQ",
        "outputId": "da91b782-1da7-44e8-a70d-07f0bdd33451"
      },
      "source": [
        "P4 = 68\n",
        "P4"
      ],
      "execution_count": 25,
      "outputs": [
        {
          "output_type": "execute_result",
          "data": {
            "text/plain": [
              "68"
            ]
          },
          "metadata": {
            "tags": []
          },
          "execution_count": 25
        }
      ]
    },
    {
      "cell_type": "code",
      "metadata": {
        "colab": {
          "base_uri": "https://localhost:8080/"
        },
        "id": "ZuFMfZ5qYEVE",
        "outputId": "f58e3fe4-c8bf-4f7a-ac2c-0b5e403d7ce4"
      },
      "source": [
        "P5 = 95.4\n",
        "P5"
      ],
      "execution_count": 27,
      "outputs": [
        {
          "output_type": "execute_result",
          "data": {
            "text/plain": [
              "95.4"
            ]
          },
          "metadata": {
            "tags": []
          },
          "execution_count": 27
        }
      ]
    },
    {
      "cell_type": "code",
      "metadata": {
        "colab": {
          "base_uri": "https://localhost:8080/"
        },
        "id": "aWjavlJYYEZl",
        "outputId": "61654f57-c773-4fef-a8b0-e2f9d8c56ced"
      },
      "source": [
        "P6 = (100-99.72)/2 + (100-95.4)/2\n",
        "P6"
      ],
      "execution_count": 26,
      "outputs": [
        {
          "output_type": "execute_result",
          "data": {
            "text/plain": [
              "2.4399999999999977"
            ]
          },
          "metadata": {
            "tags": []
          },
          "execution_count": 26
        }
      ]
    },
    {
      "cell_type": "code",
      "metadata": {
        "colab": {
          "base_uri": "https://localhost:8080/"
        },
        "id": "08DLlP2rYD-q",
        "outputId": "517c87c6-f77c-4f02-cc99-9f68edde5fb0"
      },
      "source": [
        "P7 = (100-99.72)\n",
        "P7"
      ],
      "execution_count": 28,
      "outputs": [
        {
          "output_type": "execute_result",
          "data": {
            "text/plain": [
              "0.28000000000000114"
            ]
          },
          "metadata": {
            "tags": []
          },
          "execution_count": 28
        }
      ]
    },
    {
      "cell_type": "code",
      "metadata": {
        "colab": {
          "base_uri": "https://localhost:8080/"
        },
        "id": "fndSupuuYDTB",
        "outputId": "e144258b-fe3f-4991-d9be-3420a46bccca"
      },
      "source": [
        "P8 = (100-68)/2\n",
        "P8"
      ],
      "execution_count": 29,
      "outputs": [
        {
          "output_type": "execute_result",
          "data": {
            "text/plain": [
              "16.0"
            ]
          },
          "metadata": {
            "tags": []
          },
          "execution_count": 29
        }
      ]
    },
    {
      "cell_type": "markdown",
      "metadata": {
        "id": "vttLMnQbaJF5"
      },
      "source": [
        "**Задание 5**\n",
        "\n",
        "На сколько сигм (средних квадратичных отклонений) отклоняется рост человека, равный 190 см, от\n",
        "математического ожидания роста в популяции, в которой M(X) = 178 см и D(X) = 25 кв.см?"
      ]
    },
    {
      "cell_type": "markdown",
      "metadata": {
        "id": "WJwLDzTbaca0"
      },
      "source": [
        "Поскольку дисперсия равна 25, то среднее квадратичное отклонение равно 5, откуда ответ на вопрос можнро вычислить:"
      ]
    },
    {
      "cell_type": "code",
      "metadata": {
        "colab": {
          "base_uri": "https://localhost:8080/"
        },
        "id": "ALKDflFxa_in",
        "outputId": "d8f61a05-3c0f-4c83-bbb1-14414f7ef98b"
      },
      "source": [
        "(190-178)/5"
      ],
      "execution_count": 30,
      "outputs": [
        {
          "output_type": "execute_result",
          "data": {
            "text/plain": [
              "2.4"
            ]
          },
          "metadata": {
            "tags": []
          },
          "execution_count": 30
        }
      ]
    }
  ]
}