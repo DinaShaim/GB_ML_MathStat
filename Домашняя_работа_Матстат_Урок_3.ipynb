{
  "nbformat": 4,
  "nbformat_minor": 0,
  "metadata": {
    "colab": {
      "name": "Домашняя работа Матстат Урок 3.ipynb",
      "provenance": [],
      "collapsed_sections": [],
      "include_colab_link": true
    },
    "kernelspec": {
      "display_name": "Python 3",
      "language": "python",
      "name": "python3"
    }
  },
  "cells": [
    {
      "cell_type": "markdown",
      "metadata": {
        "id": "view-in-github",
        "colab_type": "text"
      },
      "source": [
        "<a href=\"https://colab.research.google.com/github/DinaShaim/GB_ML_MathStat/blob/main/%D0%94%D0%BE%D0%BC%D0%B0%D1%88%D0%BD%D1%8F%D1%8F_%D1%80%D0%B0%D0%B1%D0%BE%D1%82%D0%B0_%D0%9C%D0%B0%D1%82%D1%81%D1%82%D0%B0%D1%82_%D0%A3%D1%80%D0%BE%D0%BA_3.ipynb\" target=\"_parent\"><img src=\"https://colab.research.google.com/assets/colab-badge.svg\" alt=\"Open In Colab\"/></a>"
      ]
    },
    {
      "cell_type": "markdown",
      "metadata": {
        "id": "npwZYcsXzdm8"
      },
      "source": [
        "## Домашняя работа 3\n",
        "### Описательная статистика. Качественные и количественные характеристики популяции. Графическое представление данных"
      ]
    },
    {
      "cell_type": "markdown",
      "metadata": {
        "id": "nyAZkmuJzdnE"
      },
      "source": [
        "**Задание 1** \n",
        "\n",
        "Даны значения зарплат из выборки выпускников: 100, 80, 75, 77, 89, 33, 45, 25, 65, 17, 30, 24, 57, 55, 70, 75, 65, 84, 90, 150. Посчитать (желательно без использования статистических методов наподобие std, var, mean) среднее арифметическое, среднее квадратичное отклонение, смещенную и несмещенную оценки дисперсий для данной выборки."
      ]
    },
    {
      "cell_type": "markdown",
      "metadata": {
        "id": "QtFn-eBlzdo-"
      },
      "source": [
        "**Решение**\n",
        "\n"
      ]
    },
    {
      "cell_type": "code",
      "metadata": {
        "id": "BsP-MrhA1OVl"
      },
      "source": [
        "import numpy as np\n",
        "import pandas as pd"
      ],
      "execution_count": 48,
      "outputs": []
    },
    {
      "cell_type": "code",
      "metadata": {
        "id": "BBDNHjAs1WD9"
      },
      "source": [
        "df = pd.DataFrame({'salary' : [100, 80, 75, 77, 89, 33, 45, 25, 65, 17, 30, 24, 57, 55, 70, 75, 65, 84, 90, 150] })\n"
      ],
      "execution_count": 49,
      "outputs": []
    },
    {
      "cell_type": "code",
      "metadata": {
        "id": "mHUPmzBW1Evy",
        "outputId": "3bf72adb-c925-4a22-ec7d-1343f77a4521",
        "colab": {
          "base_uri": "https://localhost:8080/"
        }
      },
      "source": [
        "mean = df['salary'].sum() / df['salary'].count()\n",
        "mean"
      ],
      "execution_count": 50,
      "outputs": [
        {
          "output_type": "execute_result",
          "data": {
            "text/plain": [
              "65.3"
            ]
          },
          "metadata": {
            "tags": []
          },
          "execution_count": 50
        }
      ]
    },
    {
      "cell_type": "code",
      "metadata": {
        "id": "ZOlVHZin4x0X",
        "outputId": "8bfb01bd-b053-4403-9c3e-7eee6a9c290d",
        "colab": {
          "base_uri": "https://localhost:8080/"
        }
      },
      "source": [
        "df['salary'].mean()"
      ],
      "execution_count": 56,
      "outputs": [
        {
          "output_type": "execute_result",
          "data": {
            "text/plain": [
              "65.3"
            ]
          },
          "metadata": {
            "tags": []
          },
          "execution_count": 56
        }
      ]
    },
    {
      "cell_type": "code",
      "metadata": {
        "id": "f4nA5C36_dTY",
        "outputId": "caaf98a3-99dd-4139-be13-0a0d64cd85e2",
        "colab": {
          "base_uri": "https://localhost:8080/"
        }
      },
      "source": [
        "std = np.sqrt(((df['salary'] - df['salary'].mean())**2).sum() / df['salary'].count())\n",
        "std"
      ],
      "execution_count": 51,
      "outputs": [
        {
          "output_type": "execute_result",
          "data": {
            "text/plain": [
              "30.823854398825596"
            ]
          },
          "metadata": {
            "tags": []
          },
          "execution_count": 51
        }
      ]
    },
    {
      "cell_type": "code",
      "metadata": {
        "id": "4g90HMxo5EXy",
        "outputId": "6b296ac3-898e-4011-e6ed-47dead25d9c9",
        "colab": {
          "base_uri": "https://localhost:8080/"
        }
      },
      "source": [
        "df['salary'].std(ddof=0)"
      ],
      "execution_count": 57,
      "outputs": [
        {
          "output_type": "execute_result",
          "data": {
            "text/plain": [
              "30.823854398825596"
            ]
          },
          "metadata": {
            "tags": []
          },
          "execution_count": 57
        }
      ]
    },
    {
      "cell_type": "code",
      "metadata": {
        "id": "Z3dLvbOh3CT5",
        "outputId": "21121e6c-5ae4-48b5-9e11-43103f5f9611",
        "colab": {
          "base_uri": "https://localhost:8080/"
        }
      },
      "source": [
        "variance = ((df['salary'] - df['salary'].mean())**2).sum() / df['salary'].count()\n",
        "variance"
      ],
      "execution_count": 52,
      "outputs": [
        {
          "output_type": "execute_result",
          "data": {
            "text/plain": [
              "950.11"
            ]
          },
          "metadata": {
            "tags": []
          },
          "execution_count": 52
        }
      ]
    },
    {
      "cell_type": "code",
      "metadata": {
        "id": "GjbDoqbb37V9",
        "outputId": "132615a2-00c4-41a2-8bb3-d9958f81e597",
        "colab": {
          "base_uri": "https://localhost:8080/"
        }
      },
      "source": [
        "df['salary'].var(ddof=0)"
      ],
      "execution_count": 58,
      "outputs": [
        {
          "output_type": "execute_result",
          "data": {
            "text/plain": [
              "950.11"
            ]
          },
          "metadata": {
            "tags": []
          },
          "execution_count": 58
        }
      ]
    },
    {
      "cell_type": "code",
      "metadata": {
        "id": "3OtNFq2x3Ora",
        "outputId": "68a648b5-c2bd-41e8-9bc1-a56dae0e4f6e",
        "colab": {
          "base_uri": "https://localhost:8080/"
        }
      },
      "source": [
        "variance2 = ((df['salary'] - df['salary'].mean())**2).sum() / (df['salary'].count() - 1)\n",
        "variance2"
      ],
      "execution_count": 53,
      "outputs": [
        {
          "output_type": "execute_result",
          "data": {
            "text/plain": [
              "1000.1157894736842"
            ]
          },
          "metadata": {
            "tags": []
          },
          "execution_count": 53
        }
      ]
    },
    {
      "cell_type": "code",
      "metadata": {
        "id": "Bu1T0PwJ3lwW",
        "outputId": "9a33bbe4-31de-400e-fb93-cc138d703c6e",
        "colab": {
          "base_uri": "https://localhost:8080/"
        }
      },
      "source": [
        "df['salary'].var(ddof=1)"
      ],
      "execution_count": 59,
      "outputs": [
        {
          "output_type": "execute_result",
          "data": {
            "text/plain": [
              "1000.1157894736842"
            ]
          },
          "metadata": {
            "tags": []
          },
          "execution_count": 59
        }
      ]
    },
    {
      "cell_type": "markdown",
      "metadata": {
        "id": "Gt8VyreKWedz"
      },
      "source": [
        "**Задание 2** \n",
        "\n",
        "В первом ящике находится 8 мячей, из которых 5 - белые. Во втором ящике - 12 мячей, из которых 5 белых. Из первого ящика вытаскивают случайным образом два мяча, из второго - 4. Какова вероятность того, что 3 мяча белые?"
      ]
    },
    {
      "cell_type": "markdown",
      "metadata": {
        "id": "N5sKWGxhzdpT"
      },
      "source": [
        "**Решение**\n",
        "\n"
      ]
    },
    {
      "cell_type": "markdown",
      "metadata": {
        "id": "yF0eGp9Yzdp7"
      },
      "source": [
        "Вытащить ровно 3 мяча возможно следующими комбинациями: \n",
        "\n",
        "1) 2 белых мяча из первого ящика и 1 белый мяч из второго ящика \n",
        "\n",
        "2) 1 белый мяч из первого ящика и 2 белых мяча из второго ящика\n",
        "\n",
        "3) 3 белых мячя из второго ящика"
      ]
    },
    {
      "cell_type": "markdown",
      "metadata": {
        "id": "taQO0GNk_w-z"
      },
      "source": [
        "Создадим функцию, подсчитывающую количество возможных сочетаний из k элементов, выбранных из множества, содержащего n различных элементов."
      ]
    },
    {
      "cell_type": "code",
      "metadata": {
        "id": "VpU8baYq_v6Z"
      },
      "source": [
        "import numpy as np\n",
        "from math import factorial\n",
        "def combinations(k, n):\n",
        "    return int(factorial(n) / (factorial(k) * factorial(n - k)))"
      ],
      "execution_count": null,
      "outputs": []
    },
    {
      "cell_type": "markdown",
      "metadata": {
        "id": "uxdGYHv0AI6O"
      },
      "source": [
        "Для каждого случая расчитаем вероятность."
      ]
    },
    {
      "cell_type": "code",
      "metadata": {
        "id": "KZnOcuXW-DQa",
        "outputId": "351a708a-3f81-4368-d4f9-81a2765b10d2",
        "colab": {
          "base_uri": "https://localhost:8080/"
        }
      },
      "source": [
        "P1 = combinations(2, 5)*combinations(0, 3)/combinations(2,8) * combinations(1, 5)*combinations(3, 7)/combinations(4, 12)\n",
        "print(P1)"
      ],
      "execution_count": null,
      "outputs": [
        {
          "output_type": "stream",
          "text": [
            "0.12626262626262627\n"
          ],
          "name": "stdout"
        }
      ]
    },
    {
      "cell_type": "code",
      "metadata": {
        "id": "mRsQf8QT-NWX",
        "outputId": "acbb84a3-c9c2-4207-f07c-b4243794cd95",
        "colab": {
          "base_uri": "https://localhost:8080/"
        }
      },
      "source": [
        "P2 = combinations(1, 5)*combinations(1, 3)/combinations(2,8) * combinations(2, 5)*combinations(2, 7)/combinations(4, 12)\n",
        "print(P2)"
      ],
      "execution_count": null,
      "outputs": [
        {
          "output_type": "stream",
          "text": [
            "0.22727272727272724\n"
          ],
          "name": "stdout"
        }
      ]
    },
    {
      "cell_type": "code",
      "metadata": {
        "id": "Bl4WEin4-OXQ",
        "outputId": "6f93710f-aba4-4e6c-b1af-be09cf01949b",
        "colab": {
          "base_uri": "https://localhost:8080/"
        }
      },
      "source": [
        "P3 = combinations(0, 5)*combinations(2, 3)/combinations(2,8) * combinations(3, 5)*combinations(1, 7)/combinations(4, 12)\n",
        "print(P3)"
      ],
      "execution_count": null,
      "outputs": [
        {
          "output_type": "stream",
          "text": [
            "0.015151515151515152\n"
          ],
          "name": "stdout"
        }
      ]
    },
    {
      "cell_type": "markdown",
      "metadata": {
        "id": "trXEH3Wf-EwZ"
      },
      "source": [
        "Теперь чтобы расчитать вероятность вытащить ровно 2 мяча необходимо сложить получившиеся вероятности:"
      ]
    },
    {
      "cell_type": "code",
      "metadata": {
        "id": "PdQO5mgA-FZT",
        "outputId": "2511d913-2028-487c-84e7-d6bb009d5b83",
        "colab": {
          "base_uri": "https://localhost:8080/"
        }
      },
      "source": [
        "P = P1 + P2 + P3\n",
        "print(P)"
      ],
      "execution_count": null,
      "outputs": [
        {
          "output_type": "stream",
          "text": [
            "0.3686868686868686\n"
          ],
          "name": "stdout"
        }
      ]
    },
    {
      "cell_type": "markdown",
      "metadata": {
        "id": "T4CSpeEvfSJd"
      },
      "source": [
        "**Задание 3** \n",
        "\n",
        "На соревновании по биатлону один из трех спортсменов стреляет и попадает в мишень. Вероятность попадания для первого спортсмена равна 0.9, для второго — 0.8, для третьего — 0.6. Найти вероятность того, что выстрел произведен: \n",
        "\n",
        "a). первым спортсменом \n",
        "\n",
        "б). вторым спортсменом \n",
        "\n",
        "в). третьим спортсменом."
      ]
    },
    {
      "cell_type": "markdown",
      "metadata": {
        "id": "zEIiuXlkfYyM"
      },
      "source": [
        "**Решение**"
      ]
    },
    {
      "cell_type": "markdown",
      "metadata": {
        "id": "P6OrwVO4GIMo"
      },
      "source": [
        "Из условия задачи можно известны вероятности попадания каждого спортсмена соответственно:"
      ]
    },
    {
      "cell_type": "code",
      "metadata": {
        "id": "CLwD3V42GTa2"
      },
      "source": [
        "P_AB1 = 0.9\n",
        "P_AB2 = 0.8\n",
        "P_AB3 = 0.6"
      ],
      "execution_count": null,
      "outputs": []
    },
    {
      "cell_type": "markdown",
      "metadata": {
        "id": "DVpnjO8tGyHK"
      },
      "source": [
        "Вероятность попадания в мишень находим по формуле полной вероятности:"
      ]
    },
    {
      "cell_type": "code",
      "metadata": {
        "id": "AgaQmpUaG5_G",
        "outputId": "72c0610c-5af5-4ee0-bb35-f9cd03a24ad6",
        "colab": {
          "base_uri": "https://localhost:8080/"
        }
      },
      "source": [
        "P_A = 1/3 * P_AB1 + 1/3 * P_AB2 + 1/3 * P_AB3\n",
        "print(P_A)"
      ],
      "execution_count": null,
      "outputs": [
        {
          "output_type": "stream",
          "text": [
            "0.7666666666666666\n"
          ],
          "name": "stdout"
        }
      ]
    },
    {
      "cell_type": "markdown",
      "metadata": {
        "id": "0pjz855yHkAZ"
      },
      "source": [
        "Расчитаем вероятность того, что выстрел был произведен первым спортсменом: "
      ]
    },
    {
      "cell_type": "code",
      "metadata": {
        "id": "o4V-mjomHzgQ",
        "outputId": "bf183af6-f7eb-4b88-b87d-a3b55a9b531b",
        "colab": {
          "base_uri": "https://localhost:8080/"
        }
      },
      "source": [
        "P1 = 1/3 * P_AB1 / P_A\n",
        "print(P1)"
      ],
      "execution_count": null,
      "outputs": [
        {
          "output_type": "stream",
          "text": [
            "0.391304347826087\n"
          ],
          "name": "stdout"
        }
      ]
    },
    {
      "cell_type": "markdown",
      "metadata": {
        "id": "9irRORIgJFOJ"
      },
      "source": [
        "Расчитаем вероятность того, что выстрел был произведен вторым спортсменом:"
      ]
    },
    {
      "cell_type": "code",
      "metadata": {
        "id": "O16zi6B6I0vP",
        "outputId": "78219181-1808-4cb3-ba69-bcd312214b2e",
        "colab": {
          "base_uri": "https://localhost:8080/"
        }
      },
      "source": [
        "P2 = 1/3 * P_AB2 / P_A\n",
        "print(P2)"
      ],
      "execution_count": null,
      "outputs": [
        {
          "output_type": "stream",
          "text": [
            "0.3478260869565218\n"
          ],
          "name": "stdout"
        }
      ]
    },
    {
      "cell_type": "markdown",
      "metadata": {
        "id": "3dQJGZ5GJKc8"
      },
      "source": [
        "Расчитаем вероятность того, что выстрел был произведен третьим спортсменом:"
      ]
    },
    {
      "cell_type": "code",
      "metadata": {
        "id": "hf3S_HcYI4SL",
        "outputId": "eb337433-db66-4a70-e632-eba7bb41c847",
        "colab": {
          "base_uri": "https://localhost:8080/"
        }
      },
      "source": [
        "P3 = 1/3 * P_AB3 / P_A\n",
        "print(P3)"
      ],
      "execution_count": null,
      "outputs": [
        {
          "output_type": "stream",
          "text": [
            "0.2608695652173913\n"
          ],
          "name": "stdout"
        }
      ]
    },
    {
      "cell_type": "markdown",
      "metadata": {
        "id": "zBOusHFaWP2E"
      },
      "source": [
        "**Задание 4** \n",
        "\n",
        "В университет на факультеты A и B поступило равное количество студентов, а на факультет C студентов поступило столько же, сколько на A и B вместе. Вероятность того, что студент факультета A сдаст первую сессию, равна 0.8. Для студента факультета B эта вероятность равна 0.7, а для студента факультета C - 0.9. Студент сдал первую сессию. Какова вероятность, что он учится: \n",
        "\n",
        "a). на факультете A \n",
        "\n",
        "б). на факультете B \n",
        "\n",
        "в). на факультете C?"
      ]
    },
    {
      "cell_type": "markdown",
      "metadata": {
        "id": "jmXG-hRaWW-9"
      },
      "source": [
        "**Решение**"
      ]
    },
    {
      "cell_type": "markdown",
      "metadata": {
        "id": "6VVNjq7NgoBH"
      },
      "source": [
        "Из условия задачи можно известны вероятности попадания каждого спортсмена соответственно:"
      ]
    },
    {
      "cell_type": "code",
      "metadata": {
        "id": "yk_fw27xhGMJ"
      },
      "source": [
        "P_A = 0.8\n",
        "P_B = 0.7\n",
        "P_C = 0.9"
      ],
      "execution_count": null,
      "outputs": []
    },
    {
      "cell_type": "markdown",
      "metadata": {
        "id": "Azz6z8D7ikSY"
      },
      "source": [
        "Поскольку на факультетах не равное количество студентов, то вероятность оказаться студентом факультета А будет равна 1/4, факультета В - 1/4, факультета С - 1/2. Тогда вероятность сдать сессию находим по формуле полной вероятности:"
      ]
    },
    {
      "cell_type": "code",
      "metadata": {
        "id": "3tIWGMi6jSM4",
        "outputId": "ffe5ead4-87c1-4472-e173-f680fbb07046",
        "colab": {
          "base_uri": "https://localhost:8080/"
        }
      },
      "source": [
        "P = 1/4 * P_A + 1/4 * P_B + 1/2 * P_C\n",
        "print(P)"
      ],
      "execution_count": null,
      "outputs": [
        {
          "output_type": "stream",
          "text": [
            "0.825\n"
          ],
          "name": "stdout"
        }
      ]
    },
    {
      "cell_type": "code",
      "metadata": {
        "id": "2luqyKDaodmv"
      },
      "source": [
        ""
      ],
      "execution_count": null,
      "outputs": []
    },
    {
      "cell_type": "markdown",
      "metadata": {
        "id": "9zlNVW8InOsr"
      },
      "source": [
        "Расчитаем вероятность того, что студент, сдавший сессию, учится на факультете А:"
      ]
    },
    {
      "cell_type": "code",
      "metadata": {
        "id": "bQIPdq9vj2O8",
        "outputId": "f0f1299b-d6c4-4185-cd02-e88a9964eb49",
        "colab": {
          "base_uri": "https://localhost:8080/"
        }
      },
      "source": [
        "PA = 1/4 * P_A / P\n",
        "print(PA)"
      ],
      "execution_count": null,
      "outputs": [
        {
          "output_type": "stream",
          "text": [
            "0.24242424242424246\n"
          ],
          "name": "stdout"
        }
      ]
    },
    {
      "cell_type": "markdown",
      "metadata": {
        "id": "9_JnLIfToX-G"
      },
      "source": [
        "Расчитаем вероятность того, что студент, сдавший сессию, учится на факультете В:"
      ]
    },
    {
      "cell_type": "code",
      "metadata": {
        "id": "05dybDBJj_4b",
        "outputId": "eed74604-5f9f-4dd5-feea-76594a473bef",
        "colab": {
          "base_uri": "https://localhost:8080/"
        }
      },
      "source": [
        "PB = 1/4 * P_B / P\n",
        "print(PB)"
      ],
      "execution_count": null,
      "outputs": [
        {
          "output_type": "stream",
          "text": [
            "0.21212121212121213\n"
          ],
          "name": "stdout"
        }
      ]
    },
    {
      "cell_type": "markdown",
      "metadata": {
        "id": "uZzCasiLkYnu"
      },
      "source": [
        "Расчитаем вероятность того, что студент, сдавший сессию, учится на факультете C:"
      ]
    },
    {
      "cell_type": "code",
      "metadata": {
        "id": "vlC1WVCvknoE",
        "outputId": "b77cc92a-3e20-46ff-842f-c97c69113692",
        "colab": {
          "base_uri": "https://localhost:8080/"
        }
      },
      "source": [
        "PC = 1/2 * P_C / P\n",
        "print(PC)"
      ],
      "execution_count": null,
      "outputs": [
        {
          "output_type": "stream",
          "text": [
            "0.5454545454545455\n"
          ],
          "name": "stdout"
        }
      ]
    },
    {
      "cell_type": "markdown",
      "metadata": {
        "id": "9Usf9tENk4ow"
      },
      "source": [
        "**Задание 5** \n",
        "\n",
        "Устройство состоит из трех деталей. Для первой детали вероятность выйти из строя в первый месяц равна 0.1, для второй - 0.2, для третьей - 0.25. Какова вероятность того, что в первый месяц выйдут из строя: \n",
        "\n",
        "а). все детали \n",
        "\n",
        "б). только две детали \n",
        "\n",
        "в). хотя бы одна деталь \n",
        "\n",
        "г). от одной до двух деталей?"
      ]
    },
    {
      "cell_type": "markdown",
      "metadata": {
        "id": "YcjKCLyhpCky"
      },
      "source": [
        "**Решение**"
      ]
    },
    {
      "cell_type": "markdown",
      "metadata": {
        "id": "8ycJzsoxsSjD"
      },
      "source": [
        "Дkя удобства обозначит соответствующие вероятности как P1, P2, P3:"
      ]
    },
    {
      "cell_type": "code",
      "metadata": {
        "id": "aP5ky7gEsc1x"
      },
      "source": [
        "P1 = 0.1\n",
        "P2 = 0.2 \n",
        "P3 = 0.25"
      ],
      "execution_count": 33,
      "outputs": []
    },
    {
      "cell_type": "markdown",
      "metadata": {
        "id": "pclYMtCXpLnK"
      },
      "source": [
        "а) Вероятность того, что все детали выйдут из строя означает их одновременное выполнение, т.е."
      ]
    },
    {
      "cell_type": "code",
      "metadata": {
        "id": "Ul-O_ScqsPq_",
        "outputId": "55b9b808-0850-4d0e-b44d-21b24ebca0ec",
        "colab": {
          "base_uri": "https://localhost:8080/"
        }
      },
      "source": [
        "P = P1 * P2 * P3\n",
        "print(P)"
      ],
      "execution_count": 34,
      "outputs": [
        {
          "output_type": "stream",
          "text": [
            "0.005000000000000001\n"
          ],
          "name": "stdout"
        }
      ]
    },
    {
      "cell_type": "markdown",
      "metadata": {
        "id": "hEklTOX3tAMN"
      },
      "source": [
        "б) При выходе из строя 2 деталей возможны следующие варианты: \n",
        "\n",
        "1) 1,2 - вышли из строя, 3 - работает\n",
        "\n",
        "2) 1, 3 - вышли из строя, 2 - работает\n",
        "\n",
        "3) 2,3 - вышли из строя, 1- работает\n",
        "\n",
        "Найдем соответственно вероятности:"
      ]
    },
    {
      "cell_type": "code",
      "metadata": {
        "id": "qYdpNol9taqo",
        "outputId": "004045ef-e9a5-49d9-f1d9-58029edab5e2",
        "colab": {
          "base_uri": "https://localhost:8080/"
        }
      },
      "source": [
        "P = P1*P2*(1-P3) + P1*(1-P2)*P3 + (1-P1)*P2*P3 \n",
        "print(P)"
      ],
      "execution_count": 36,
      "outputs": [
        {
          "output_type": "stream",
          "text": [
            "0.08000000000000002\n"
          ],
          "name": "stdout"
        }
      ]
    },
    {
      "cell_type": "markdown",
      "metadata": {
        "id": "aBQDo8c3uEn1"
      },
      "source": [
        "в) Вероятность можно расчитать отняв от 1 вероятность что все детали будут работать: "
      ]
    },
    {
      "cell_type": "code",
      "metadata": {
        "id": "F0c7fy1WuZEt",
        "outputId": "55c368bf-0776-4925-8989-05200e1d5ddf",
        "colab": {
          "base_uri": "https://localhost:8080/"
        }
      },
      "source": [
        "P = 1 - (1-P1)*(1-P2)*(1-P3)\n",
        "print(P)"
      ],
      "execution_count": 37,
      "outputs": [
        {
          "output_type": "stream",
          "text": [
            "0.45999999999999996\n"
          ],
          "name": "stdout"
        }
      ]
    },
    {
      "cell_type": "markdown",
      "metadata": {
        "id": "OZsCVn67uq62"
      },
      "source": [
        "г) Нужно найти вероятность, что вышли из строя 1, либо 2 детали. Возможны следующие варианты: \n",
        "\n",
        "1) 1 - вышли из строя, 2,3 - работают\n",
        "\n",
        "2) 2 - вышли из строя, 1,3 - работают\n",
        "\n",
        "3) 3 - вышли из строя, 1,2 - работают\n",
        "\n",
        "4) 1,2 - вышли из строя, 3 - работает\n",
        "\n",
        "5) 1, 3 - вышли из строя, 2 - работает\n",
        "\n",
        "6) 2,3 - вышли из строя, 1- работает"
      ]
    },
    {
      "cell_type": "code",
      "metadata": {
        "id": "dQy9DHeiwxvC",
        "outputId": "e4680c00-b2ec-4bf1-f615-eb53d7e39748",
        "colab": {
          "base_uri": "https://localhost:8080/"
        }
      },
      "source": [
        "P =  P1*(1-P2)*(1-P3) + (1-P1)*P2*(1-P3) + (1-P1)*(1-P2)*P3 + P1*P2*(1-P3) + P1*(1-P2)*P3 + (1-P1)*P2*P3 \n",
        "print(P)"
      ],
      "execution_count": 38,
      "outputs": [
        {
          "output_type": "stream",
          "text": [
            "0.455\n"
          ],
          "name": "stdout"
        }
      ]
    }
  ]
}