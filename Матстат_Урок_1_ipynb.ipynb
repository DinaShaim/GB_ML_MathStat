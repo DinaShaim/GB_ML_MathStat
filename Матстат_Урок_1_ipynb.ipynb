{
  "nbformat": 4,
  "nbformat_minor": 0,
  "metadata": {
    "colab": {
      "name": "Копия блокнота \"Матстат - Урок 1.ipynb\"",
      "provenance": [],
      "collapsed_sections": []
    },
    "kernelspec": {
      "display_name": "Python 3",
      "language": "python",
      "name": "python3"
    }
  },
  "cells": [
    {
      "cell_type": "markdown",
      "metadata": {
        "id": "G2wMw7vtsFIu"
      },
      "source": [
        "## **Задание 1**\n",
        "Из колоды в 52 карты извлекаются случайным образом 4 карты. \n",
        "\n",
        "**a)** Найти вероятность того, что все карты – крести. "
      ]
    },
    {
      "cell_type": "code",
      "metadata": {
        "id": "ulo8iFRJ-xpQ"
      },
      "source": [
        "from math import factorial"
      ],
      "execution_count": 7,
      "outputs": []
    },
    {
      "cell_type": "code",
      "metadata": {
        "id": "31uOQKWjIFVi"
      },
      "source": [
        "def combinations(k, n):\n",
        "    return int(factorial(n) / (factorial(k) * factorial(n - k)))"
      ],
      "execution_count": 11,
      "outputs": []
    },
    {
      "cell_type": "code",
      "metadata": {
        "id": "K55wPOTxIT5q",
        "outputId": "b717963b-f07f-469b-938b-dd2bd0302ede",
        "colab": {
          "base_uri": "https://localhost:8080/"
        }
      },
      "source": [
        " combinations(4, 13) / combinations(4, 52)"
      ],
      "execution_count": 14,
      "outputs": [
        {
          "output_type": "execute_result",
          "data": {
            "text/plain": [
              "0.0026410564225690276"
            ]
          },
          "metadata": {
            "tags": []
          },
          "execution_count": 14
        }
      ]
    },
    {
      "cell_type": "markdown",
      "metadata": {
        "id": "tkBVPAfesFIz"
      },
      "source": [
        "**б)** Найти вероятность, что среди 4-х карт окажется хотя бы один туз."
      ]
    },
    {
      "cell_type": "code",
      "metadata": {
        "id": "ryLBtfMYJW-E"
      },
      "source": [
        "C1 = combinations(1, 4) * combinations(3, 48)"
      ],
      "execution_count": 21,
      "outputs": []
    },
    {
      "cell_type": "code",
      "metadata": {
        "id": "cWfHqkBcNlHC"
      },
      "source": [
        "C2 = combinations(2, 4) * combinations(2, 48)"
      ],
      "execution_count": 22,
      "outputs": []
    },
    {
      "cell_type": "code",
      "metadata": {
        "id": "FxwSfrHKNsRZ"
      },
      "source": [
        "C3 = combinations(3, 4) * combinations(1, 48)"
      ],
      "execution_count": 23,
      "outputs": []
    },
    {
      "cell_type": "code",
      "metadata": {
        "id": "aU-GM26INx22"
      },
      "source": [
        "C4 = combinations(4, 4) "
      ],
      "execution_count": 24,
      "outputs": []
    },
    {
      "cell_type": "code",
      "metadata": {
        "id": "sL9XvBOjN_Wr"
      },
      "source": [
        "C = combinations(4, 52) "
      ],
      "execution_count": 25,
      "outputs": []
    },
    {
      "cell_type": "code",
      "metadata": {
        "id": "VBpN2NuTOLZb"
      },
      "source": [
        "P = (C1+C2+C3+C4)/C"
      ],
      "execution_count": 26,
      "outputs": []
    },
    {
      "cell_type": "code",
      "metadata": {
        "id": "pQNZ47FzObva",
        "outputId": "2e0cae3a-9327-4559-f424-36090b1ce352",
        "colab": {
          "base_uri": "https://localhost:8080/"
        }
      },
      "source": [
        "print(P)"
      ],
      "execution_count": 27,
      "outputs": [
        {
          "output_type": "stream",
          "text": [
            "0.2812632745405855\n"
          ],
          "name": "stdout"
        }
      ]
    },
    {
      "cell_type": "markdown",
      "metadata": {
        "id": "G78UbsP2Ounc"
      },
      "source": [
        "## **Задание 2**\n",
        "На входной двери подъезда установлен кодовый замок, содержащий десять кнопок с цифрами от 0 до 9. Код содержит три цифры, которые нужно нажать одновременно. Какова вероятность того, что человек, не знающий код, откроет дверь с первой попытки?"
      ]
    },
    {
      "cell_type": "code",
      "metadata": {
        "id": "b4JchsWyPx4j",
        "outputId": "91254d3b-3938-466f-fff8-ae6becd0efeb",
        "colab": {
          "base_uri": "https://localhost:8080/"
        }
      },
      "source": [
        "1/combinations(3, 10) "
      ],
      "execution_count": 28,
      "outputs": [
        {
          "output_type": "execute_result",
          "data": {
            "text/plain": [
              "0.008333333333333333"
            ]
          },
          "metadata": {
            "tags": []
          },
          "execution_count": 28
        }
      ]
    },
    {
      "cell_type": "markdown",
      "metadata": {
        "id": "JCd44McAQePu"
      },
      "source": [
        "# **Задание 3**\n",
        "В ящике имеется 15 деталей, из которых 9 окрашены. Рабочий случайным образом извлекает 3 детали. Какова вероятность того, что все извлеченные детали окрашены?"
      ]
    },
    {
      "cell_type": "code",
      "metadata": {
        "id": "eKBOB-oWQu9n",
        "outputId": "40898ca7-a7f3-463a-b55c-444826f47b32",
        "colab": {
          "base_uri": "https://localhost:8080/"
        }
      },
      "source": [
        "(9/15) *(8/14) * (7/13)"
      ],
      "execution_count": 29,
      "outputs": [
        {
          "output_type": "execute_result",
          "data": {
            "text/plain": [
              "0.18461538461538457"
            ]
          },
          "metadata": {
            "tags": []
          },
          "execution_count": 29
        }
      ]
    },
    {
      "cell_type": "markdown",
      "metadata": {
        "id": "hVuiUk6qSgxS"
      },
      "source": [
        "# **Задание 4**\n",
        "В лотерее 100 билетов. Из них 2 выигрышных. Какова вероятность того, что 2 приобретенных билета окажутся выигрышными?"
      ]
    },
    {
      "cell_type": "code",
      "metadata": {
        "id": "cAGqtr8TS-WR",
        "outputId": "055e9042-7f4e-4252-e39c-e9accdb8dd5e",
        "colab": {
          "base_uri": "https://localhost:8080/"
        }
      },
      "source": [
        "(2/100)*(1/99)"
      ],
      "execution_count": 30,
      "outputs": [
        {
          "output_type": "execute_result",
          "data": {
            "text/plain": [
              "0.00020202020202020205"
            ]
          },
          "metadata": {
            "tags": []
          },
          "execution_count": 30
        }
      ]
    }
  ]
}