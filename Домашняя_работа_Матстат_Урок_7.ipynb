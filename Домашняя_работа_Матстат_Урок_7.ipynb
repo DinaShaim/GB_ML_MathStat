{
  "nbformat": 4,
  "nbformat_minor": 0,
  "metadata": {
    "colab": {
      "name": "Домашняя работа Матстат Урок 7.ipynb",
      "provenance": [],
      "collapsed_sections": [],
      "include_colab_link": true
    },
    "kernelspec": {
      "display_name": "Python 3",
      "language": "python",
      "name": "python3"
    }
  },
  "cells": [
    {
      "cell_type": "markdown",
      "metadata": {
        "id": "view-in-github",
        "colab_type": "text"
      },
      "source": [
        "<a href=\"https://colab.research.google.com/github/DinaShaim/GB_ML_MathStat/blob/main/%D0%94%D0%BE%D0%BC%D0%B0%D1%88%D0%BD%D1%8F%D1%8F_%D1%80%D0%B0%D0%B1%D0%BE%D1%82%D0%B0_%D0%9C%D0%B0%D1%82%D1%81%D1%82%D0%B0%D1%82_%D0%A3%D1%80%D0%BE%D0%BA_7.ipynb\" target=\"_parent\"><img src=\"https://colab.research.google.com/assets/colab-badge.svg\" alt=\"Open In Colab\"/></a>"
      ]
    },
    {
      "cell_type": "markdown",
      "metadata": {
        "id": "npwZYcsXzdm8"
      },
      "source": [
        "## Домашняя работа 7\n",
        "### Многомерный статистический анализ. Линейная регрессия."
      ]
    },
    {
      "cell_type": "markdown",
      "metadata": {
        "id": "nyAZkmuJzdnE"
      },
      "source": [
        "**Задание 1** \n",
        "\n",
        "Даны значения величины заработной платы заемщиков банка (zp) и значения их поведенческого кредитного скоринга (ks): zp = [35, 45, 190, 200, 40, 70, 54, 150, 120, 110], ks = [401, 574, 874, 919, 459, 739, 653, 902, 746, 832]. Используя математические операции, посчитать коэффициенты линейной регрессии, приняв за X заработную плату (то есть, zp - признак), а за y - значения скорингового балла (то есть, ks - целевая переменная). Произвести расчет как с использованием intercept, так и без."
      ]
    },
    {
      "cell_type": "markdown",
      "metadata": {
        "id": "QtFn-eBlzdo-"
      },
      "source": [
        "**Решение**\n",
        "\n"
      ]
    },
    {
      "cell_type": "markdown",
      "metadata": {
        "id": "ExcHZPqcNfcg"
      },
      "source": [
        "Обозначим за $x$  заработную плату, а за $y$  - значения скорингового балла.\n",
        "\n",
        "Для начала проведем расчеты с использованием intercept, т.е. для уравнения вида $y = a + b*x$.\n"
      ]
    },
    {
      "cell_type": "code",
      "metadata": {
        "id": "lU_OLokiSME-"
      },
      "source": [
        "import numpy as np\n",
        "n=10"
      ],
      "execution_count": 13,
      "outputs": []
    },
    {
      "cell_type": "code",
      "metadata": {
        "colab": {
          "base_uri": "https://localhost:8080/"
        },
        "id": "f4wbeS1uRp-T",
        "outputId": "e2370e84-cfda-439a-eeac-6c2fca5d14d1"
      },
      "source": [
        "x = np.array([35, 45, 190, 200, 40, 70, 54, 150, 120, 110])\n",
        "x"
      ],
      "execution_count": 14,
      "outputs": [
        {
          "output_type": "execute_result",
          "data": {
            "text/plain": [
              "array([ 35,  45, 190, 200,  40,  70,  54, 150, 120, 110])"
            ]
          },
          "metadata": {
            "tags": []
          },
          "execution_count": 14
        }
      ]
    },
    {
      "cell_type": "code",
      "metadata": {
        "colab": {
          "base_uri": "https://localhost:8080/"
        },
        "id": "aSxAE0zqSA1P",
        "outputId": "14098031-56a8-4b5e-8723-b999513574df"
      },
      "source": [
        "y = np.array([401, 574, 874, 919, 459, 739, 653, 902, 746, 832])\n",
        "y"
      ],
      "execution_count": 15,
      "outputs": [
        {
          "output_type": "execute_result",
          "data": {
            "text/plain": [
              "array([401, 574, 874, 919, 459, 739, 653, 902, 746, 832])"
            ]
          },
          "metadata": {
            "tags": []
          },
          "execution_count": 15
        }
      ]
    },
    {
      "cell_type": "code",
      "metadata": {
        "colab": {
          "base_uri": "https://localhost:8080/"
        },
        "id": "UjYUoHUwSI0t",
        "outputId": "917d2c81-8839-4143-846a-a32f7378d475"
      },
      "source": [
        "b = (np.mean(x*y) - np.mean(x)*np.mean(y))/(np.mean(x**2) - np.mean(x)**2)\n",
        "b"
      ],
      "execution_count": 16,
      "outputs": [
        {
          "output_type": "execute_result",
          "data": {
            "text/plain": [
              "2.620538882402765"
            ]
          },
          "metadata": {
            "tags": []
          },
          "execution_count": 16
        }
      ]
    },
    {
      "cell_type": "code",
      "metadata": {
        "colab": {
          "base_uri": "https://localhost:8080/"
        },
        "id": "aZLjvRWzSzY1",
        "outputId": "fbd5f640-3bc2-49c8-b4d5-f8dda759ab2f"
      },
      "source": [
        "a = np.mean(y) - b*np.mean(x)\n",
        "a"
      ],
      "execution_count": 17,
      "outputs": [
        {
          "output_type": "execute_result",
          "data": {
            "text/plain": [
              "444.1773573243596"
            ]
          },
          "metadata": {
            "tags": []
          },
          "execution_count": 17
        }
      ]
    },
    {
      "cell_type": "markdown",
      "metadata": {
        "id": "5_9_NBBuzjYH"
      },
      "source": [
        "Получили уравнение вида: \n",
        "$$y = 444.177 + 2.62 * x$$"
      ]
    },
    {
      "cell_type": "markdown",
      "metadata": {
        "id": "sAaZtc__T4jV"
      },
      "source": [
        "Теперь проведем вычисления без intercept, т.е. для уравнения вида $y =  b*x$. Для этого воспользуемся матричным методом. Преобразуем массивы $x, y$ к необходимому виду:"
      ]
    },
    {
      "cell_type": "code",
      "metadata": {
        "colab": {
          "base_uri": "https://localhost:8080/"
        },
        "id": "Cxp_apOYT3ta",
        "outputId": "f0e016f7-5b77-4a06-cd08-33da54155652"
      },
      "source": [
        "x1 = x.reshape((n,1))\n",
        "x1"
      ],
      "execution_count": 18,
      "outputs": [
        {
          "output_type": "execute_result",
          "data": {
            "text/plain": [
              "array([[ 35],\n",
              "       [ 45],\n",
              "       [190],\n",
              "       [200],\n",
              "       [ 40],\n",
              "       [ 70],\n",
              "       [ 54],\n",
              "       [150],\n",
              "       [120],\n",
              "       [110]])"
            ]
          },
          "metadata": {
            "tags": []
          },
          "execution_count": 18
        }
      ]
    },
    {
      "cell_type": "code",
      "metadata": {
        "colab": {
          "base_uri": "https://localhost:8080/"
        },
        "id": "LRtsfZDJUSzt",
        "outputId": "b36f81a3-28de-49f3-edab-861022f20edd"
      },
      "source": [
        "y1 = y.reshape((n,1))\n",
        "y1"
      ],
      "execution_count": 19,
      "outputs": [
        {
          "output_type": "execute_result",
          "data": {
            "text/plain": [
              "array([[401],\n",
              "       [574],\n",
              "       [874],\n",
              "       [919],\n",
              "       [459],\n",
              "       [739],\n",
              "       [653],\n",
              "       [902],\n",
              "       [746],\n",
              "       [832]])"
            ]
          },
          "metadata": {
            "tags": []
          },
          "execution_count": 19
        }
      ]
    },
    {
      "cell_type": "code",
      "metadata": {
        "colab": {
          "base_uri": "https://localhost:8080/"
        },
        "id": "42hlWwHMhQfX",
        "outputId": "bd6586e8-7969-4b4c-9f06-d55b48dedda4"
      },
      "source": [
        "b = np.dot(np.linalg.inv(np.dot(x1.T,x1)),x1.T @ y1)\n",
        "b"
      ],
      "execution_count": 20,
      "outputs": [
        {
          "output_type": "execute_result",
          "data": {
            "text/plain": [
              "array([[5.88982042]])"
            ]
          },
          "metadata": {
            "tags": []
          },
          "execution_count": 20
        }
      ]
    },
    {
      "cell_type": "markdown",
      "metadata": {
        "id": "Hmsh49BOz2h6"
      },
      "source": [
        "Получили уравнение вида: \n",
        "$$y = 5.89 * x$$"
      ]
    },
    {
      "cell_type": "markdown",
      "metadata": {
        "id": "zIjWpeIhOrtG"
      },
      "source": [
        "**Задание 2** \n",
        "\n",
        "Посчитать коэффициент линейной регрессии при заработной плате (zp), используя градиентный спуск (без intercept)."
      ]
    },
    {
      "cell_type": "markdown",
      "metadata": {
        "id": "etLHi2beOsf3"
      },
      "source": [
        "**Решение**"
      ]
    },
    {
      "cell_type": "markdown",
      "metadata": {
        "id": "6099xC4VO2gS"
      },
      "source": [
        "Для удобства создадим фукнцию mse, расчитывающию функцию потерь:"
      ]
    },
    {
      "cell_type": "code",
      "metadata": {
        "id": "f7eJd_-ePOAh"
      },
      "source": [
        "def mse (b1, y=y, x=x, n=10):\n",
        "  return np.sum((b1*x-y)**2)/n"
      ],
      "execution_count": 22,
      "outputs": []
    },
    {
      "cell_type": "markdown",
      "metadata": {
        "id": "nwAw-jl81wYs"
      },
      "source": [
        "Зададим параметры градиентного метода:"
      ]
    },
    {
      "cell_type": "code",
      "metadata": {
        "colab": {
          "base_uri": "https://localhost:8080/"
        },
        "id": "MVa3c8kqu-YK",
        "outputId": "a76d1e0e-3330-4de7-a188-747b07282def"
      },
      "source": [
        "b1 = 0.1\n",
        "alpha = 1e-6\n",
        "alpha"
      ],
      "execution_count": 23,
      "outputs": [
        {
          "output_type": "execute_result",
          "data": {
            "text/plain": [
              "1e-06"
            ]
          },
          "metadata": {
            "tags": []
          },
          "execution_count": 23
        }
      ]
    },
    {
      "cell_type": "markdown",
      "metadata": {
        "id": "YrQu2Yn1pydS"
      },
      "source": [
        "Осуществим вычисления градиентным методом"
      ]
    },
    {
      "cell_type": "code",
      "metadata": {
        "colab": {
          "base_uri": "https://localhost:8080/"
        },
        "id": "gz7P2AMy1_dB",
        "outputId": "b6a3a74f-d1bc-4fb8-e83f-d9830633cddc"
      },
      "source": [
        "for i in range (5000):\n",
        "  b1 -=alpha * (2/n) * np.sum((b1*x-y)*x)\n",
        "  if (i)%500==0:\n",
        "    print('Iteration: {i},  b1 = {b1},  mse = {mse}'.format(i=i, b1=b1, mse=mse(b1)))"
      ],
      "execution_count": 30,
      "outputs": [
        {
          "output_type": "stream",
          "text": [
            "Iteration: 0,  b1 = 5.889820420132673,  mse = 56516.85841571943\n",
            "Iteration: 500,  b1 = 5.889820420132673,  mse = 56516.85841571943\n",
            "Iteration: 1000,  b1 = 5.889820420132673,  mse = 56516.85841571943\n",
            "Iteration: 1500,  b1 = 5.889820420132673,  mse = 56516.85841571943\n",
            "Iteration: 2000,  b1 = 5.889820420132673,  mse = 56516.85841571943\n",
            "Iteration: 2500,  b1 = 5.889820420132673,  mse = 56516.85841571943\n",
            "Iteration: 3000,  b1 = 5.889820420132673,  mse = 56516.85841571943\n",
            "Iteration: 3500,  b1 = 5.889820420132673,  mse = 56516.85841571943\n",
            "Iteration: 4000,  b1 = 5.889820420132673,  mse = 56516.85841571943\n",
            "Iteration: 4500,  b1 = 5.889820420132673,  mse = 56516.85841571943\n"
          ],
          "name": "stdout"
        }
      ]
    },
    {
      "cell_type": "markdown",
      "metadata": {
        "id": "VFNSY3ZER_17"
      },
      "source": [
        "**Задание 3** \n",
        "\n",
        "В каких случаях для вычисления доверительных интервалов и проверки статистических гипотез используется таблица значений функции Лапласа, а в каких - таблица критических точек распределения Стьюдента?"
      ]
    },
    {
      "cell_type": "markdown",
      "metadata": {
        "id": "Dt6ymZBzScXF"
      },
      "source": [
        "**Решение**"
      ]
    },
    {
      "cell_type": "markdown",
      "metadata": {
        "id": "xjQNmP_-Sg2f"
      },
      "source": [
        "В качестве критерия используется случайная величина t-критерий Стьюдента, если  для нормально распределенной генеральной совокупности не известно ни среднее квадратическое отклонение, ни дисперсия. \n",
        "\n",
        "При решении задач, требующих применения интегральной теоремы Лапласа, пользуются специальными таблицами значений функции Лапласа."
      ]
    },
    {
      "cell_type": "markdown",
      "metadata": {
        "id": "kyngQ0c7CanF"
      },
      "source": [
        "**Задание 4**\n",
        "\n",
        "Произвести вычисления как в пункте 2, но с вычислением intercept. Учесть, что изменение коэффициентов должно производиться на каждом шаге одновременно (то есть изменение одного коэффициента не должно влиять на изменение другого во время одной итерации)."
      ]
    },
    {
      "cell_type": "markdown",
      "metadata": {
        "id": "u7pNMKnQCsfD"
      },
      "source": [
        "**Решение**"
      ]
    },
    {
      "cell_type": "markdown",
      "metadata": {
        "id": "TGwtHF1hCuKO"
      },
      "source": [
        "Для удобства создадим фукнцию mse, расчитывающию функцию потерь:"
      ]
    },
    {
      "cell_type": "code",
      "metadata": {
        "id": "AMiIgVibCu83"
      },
      "source": [
        "def mse1 (b0,b1, y=y, x=x, n=10):\n",
        "  return np.sum((b0+b1*x-y)**2)/n"
      ],
      "execution_count": 32,
      "outputs": []
    },
    {
      "cell_type": "code",
      "metadata": {
        "id": "PE6dr2iGDCpP"
      },
      "source": [
        "b0 = 0.1\n",
        "b1 = 0.1\n",
        "alpha = 4e-5"
      ],
      "execution_count": 47,
      "outputs": []
    },
    {
      "cell_type": "code",
      "metadata": {
        "colab": {
          "base_uri": "https://localhost:8080/"
        },
        "id": "M-0Ifz9aDH_p",
        "outputId": "9e13eddb-24e4-4cab-8f2e-416d4cc11bdd"
      },
      "source": [
        "for i in range (1000000):\n",
        " b0 -= alpha * (2/n) * np.sum((b0 + b1*x - y))\n",
        " b1 -= alpha * (2/n) * np.sum((b0 + b1*x - y)*x)\n",
        " if (i)%100000==0:\n",
        "   print('Iteration: {i},  b0 = {b0},  b1 = {b1},  mse = {mse}'.format(i=i, b0=b0, b1=b1, mse=mse1(b0,b1)))"
      ],
      "execution_count": 48,
      "outputs": [
        {
          "output_type": "stream",
          "text": [
            "Iteration: 0,  b0 = 0.1559728,  b1 = 6.4798579486464005,  mse = 61296.64334529305\n",
            "Iteration: 100000,  b0 = 385.8231521007457,  b1 = 3.0500429169636174,  mse = 7334.197318381918\n",
            "Iteration: 200000,  b0 = 436.5084025964089,  b1 = 2.67698463440808,  mse = 6485.332961698472\n",
            "Iteration: 300000,  b0 = 443.1694973698982,  b1 = 2.6279570267345185,  mse = 6470.671869347142\n",
            "Iteration: 400000,  b0 = 444.0449035905899,  b1 = 2.6215137806612328,  mse = 6470.418651471703\n",
            "Iteration: 500000,  b0 = 444.15995015234995,  b1 = 2.620667004284981,  mse = 6470.414278039572\n",
            "Iteration: 600000,  b0 = 444.1750696603721,  b1 = 2.6205557202794627,  mse = 6470.414202504192\n",
            "Iteration: 700000,  b0 = 444.17705667778745,  b1 = 2.620541095249555,  mse = 6470.4142011995855\n",
            "Iteration: 800000,  b0 = 444.1773178131555,  b1 = 2.6205391732167946,  mse = 6470.414201177052\n",
            "Iteration: 900000,  b0 = 444.1773521317654,  b1 = 2.6205389206217786,  mse = 6470.414201176664\n"
          ],
          "name": "stdout"
        }
      ]
    }
  ]
}