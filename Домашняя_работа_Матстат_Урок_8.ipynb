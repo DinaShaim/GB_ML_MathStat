{
  "nbformat": 4,
  "nbformat_minor": 0,
  "metadata": {
    "colab": {
      "name": "Домашняя работа Матстат Урок 8.ipynb",
      "provenance": [],
      "collapsed_sections": [],
      "include_colab_link": true
    },
    "kernelspec": {
      "display_name": "Python 3",
      "language": "python",
      "name": "python3"
    }
  },
  "cells": [
    {
      "cell_type": "markdown",
      "metadata": {
        "id": "view-in-github",
        "colab_type": "text"
      },
      "source": [
        "<a href=\"https://colab.research.google.com/github/DinaShaim/GB_ML_MathStat/blob/main/%D0%94%D0%BE%D0%BC%D0%B0%D1%88%D0%BD%D1%8F%D1%8F_%D1%80%D0%B0%D0%B1%D0%BE%D1%82%D0%B0_%D0%9C%D0%B0%D1%82%D1%81%D1%82%D0%B0%D1%82_%D0%A3%D1%80%D0%BE%D0%BA_8.ipynb\" target=\"_parent\"><img src=\"https://colab.research.google.com/assets/colab-badge.svg\" alt=\"Open In Colab\"/></a>"
      ]
    },
    {
      "cell_type": "markdown",
      "metadata": {
        "id": "npwZYcsXzdm8"
      },
      "source": [
        "## Домашняя работа 8\n",
        "### Дисперсионный анализ. Логистическая регрессия"
      ]
    },
    {
      "cell_type": "markdown",
      "metadata": {
        "id": "nyAZkmuJzdnE"
      },
      "source": [
        "**Задание 1** \n",
        "\n",
        "Провести дисперсионный анализ для определения того, есть ли различия среднего роста среди взрослых футболистов, хоккеистов и штангистов.\n",
        "Даны значения роста в трех группах случайно выбранных спортсменов:\n",
        "Футболисты: 173, 175, 180, 178, 177, 185, 183, 182.\n",
        "Хоккеисты: 177, 179, 180, 188, 177, 172, 171, 184, 180.\n",
        "Штангисты: 172, 173, 169, 177, 166, 180, 178, 177, 172, 166, 170."
      ]
    },
    {
      "cell_type": "markdown",
      "metadata": {
        "id": "QtFn-eBlzdo-"
      },
      "source": [
        "**Решение**\n",
        "\n"
      ]
    },
    {
      "cell_type": "code",
      "metadata": {
        "id": "NZqPnMOXeArO"
      },
      "source": [
        "import numpy as np\n",
        "from scipy import stats "
      ],
      "execution_count": 2,
      "outputs": []
    },
    {
      "cell_type": "markdown",
      "metadata": {
        "id": "ExcHZPqcNfcg"
      },
      "source": [
        "Всего три группы: футболисты, хоккеисты и штангисты. Значения роста в этих группах обозначим соответственно $y1$, $y2$, $y3$:\n"
      ]
    },
    {
      "cell_type": "code",
      "metadata": {
        "id": "lU_OLokiSME-",
        "colab": {
          "base_uri": "https://localhost:8080/"
        },
        "outputId": "bc613729-d5c6-40c0-972e-b9652d83db75"
      },
      "source": [
        "y1 = np.array([173, 175, 180, 178, 177, 185, 183, 182])\n",
        "y1"
      ],
      "execution_count": 3,
      "outputs": [
        {
          "output_type": "execute_result",
          "data": {
            "text/plain": [
              "array([173, 175, 180, 178, 177, 185, 183, 182])"
            ]
          },
          "metadata": {
            "tags": []
          },
          "execution_count": 3
        }
      ]
    },
    {
      "cell_type": "code",
      "metadata": {
        "colab": {
          "base_uri": "https://localhost:8080/"
        },
        "id": "f4wbeS1uRp-T",
        "outputId": "4a9de370-b32e-467f-f9f2-e4514987240e"
      },
      "source": [
        "y2 = np.array([177, 179, 180, 188, 177, 172, 171, 184, 180])\n",
        "y2"
      ],
      "execution_count": 4,
      "outputs": [
        {
          "output_type": "execute_result",
          "data": {
            "text/plain": [
              "array([177, 179, 180, 188, 177, 172, 171, 184, 180])"
            ]
          },
          "metadata": {
            "tags": []
          },
          "execution_count": 4
        }
      ]
    },
    {
      "cell_type": "code",
      "metadata": {
        "colab": {
          "base_uri": "https://localhost:8080/"
        },
        "id": "aSxAE0zqSA1P",
        "outputId": "3523e5cf-de31-41f6-8c9c-99decba71d4c"
      },
      "source": [
        "y3 = np.array([172, 173, 169, 177, 166, 180, 178, 177, 172, 166, 170])\n",
        "y3"
      ],
      "execution_count": 5,
      "outputs": [
        {
          "output_type": "execute_result",
          "data": {
            "text/plain": [
              "array([172, 173, 169, 177, 166, 180, 178, 177, 172, 166, 170])"
            ]
          },
          "metadata": {
            "tags": []
          },
          "execution_count": 5
        }
      ]
    },
    {
      "cell_type": "markdown",
      "metadata": {
        "id": "huaYpBP6fUNn"
      },
      "source": [
        "Применим функция, stats.f_oneway для проведения дисперсионного анализа"
      ]
    },
    {
      "cell_type": "code",
      "metadata": {
        "colab": {
          "base_uri": "https://localhost:8080/"
        },
        "id": "UjYUoHUwSI0t",
        "outputId": "0cadf07c-dd3e-4027-c63e-214b2b55dde1"
      },
      "source": [
        "stats.f_oneway(y1, y2, y3)"
      ],
      "execution_count": 6,
      "outputs": [
        {
          "output_type": "execute_result",
          "data": {
            "text/plain": [
              "F_onewayResult(statistic=5.500053450812596, pvalue=0.010482206918698694)"
            ]
          },
          "metadata": {
            "tags": []
          },
          "execution_count": 6
        }
      ]
    },
    {
      "cell_type": "markdown",
      "metadata": {
        "id": "5dpdvIOriLzx"
      },
      "source": [
        "Поскольку полученное значение pvalue меньше 0,05, то можно сделать вывод, что вид спорта влияет на средний рост спортсмена. "
      ]
    }
  ]
}