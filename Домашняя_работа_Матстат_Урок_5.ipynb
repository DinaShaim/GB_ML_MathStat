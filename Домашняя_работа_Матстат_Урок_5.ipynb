{
  "nbformat": 4,
  "nbformat_minor": 0,
  "metadata": {
    "colab": {
      "name": "Домашняя работа Матстат Урок 5.ipynb",
      "provenance": [],
      "collapsed_sections": [],
      "include_colab_link": true
    },
    "kernelspec": {
      "display_name": "Python 3",
      "language": "python",
      "name": "python3"
    }
  },
  "cells": [
    {
      "cell_type": "markdown",
      "metadata": {
        "id": "view-in-github",
        "colab_type": "text"
      },
      "source": [
        "<a href=\"https://colab.research.google.com/github/DinaShaim/GB_ML_MathStat/blob/main/%D0%94%D0%BE%D0%BC%D0%B0%D1%88%D0%BD%D1%8F%D1%8F_%D1%80%D0%B0%D0%B1%D0%BE%D1%82%D0%B0_%D0%9C%D0%B0%D1%82%D1%81%D1%82%D0%B0%D1%82_%D0%A3%D1%80%D0%BE%D0%BA_5.ipynb\" target=\"_parent\"><img src=\"https://colab.research.google.com/assets/colab-badge.svg\" alt=\"Open In Colab\"/></a>"
      ]
    },
    {
      "cell_type": "markdown",
      "metadata": {
        "id": "npwZYcsXzdm8"
      },
      "source": [
        "## Домашняя работа 5\n",
        "### Проверка статистических гипотез. P-значения. Доверительные интервалы. A/B-тестирование"
      ]
    },
    {
      "cell_type": "markdown",
      "metadata": {
        "id": "nyAZkmuJzdnE"
      },
      "source": [
        "**Задание 1** \n",
        "\n",
        "Известно, что генеральная совокупность распределена нормально со средним квадратическим отклонением, равным 16. Найти доверительный интервал для оценки математического ожидания a с надежностью 0.95, если выборочная средняя M = 80, а объем выборки n = 256."
      ]
    },
    {
      "cell_type": "markdown",
      "metadata": {
        "id": "QtFn-eBlzdo-"
      },
      "source": [
        "**Решение**\n",
        "\n"
      ]
    },
    {
      "cell_type": "markdown",
      "metadata": {
        "id": "ExcHZPqcNfcg"
      },
      "source": [
        "Вычислим доверительный интервал по формуле:\n",
        "\n",
        "$$T_{1,2} = \\overline{X} \\pm  Z_{a/2}\\cdot \\frac{σ}{\\sqrt{n}}  $$\n",
        "\n",
        "$$T_{1,2} = 80 \\pm  1.96\\cdot \\frac{16}{16}  $$\n",
        "\n",
        "Доверительнвй интерал равен: \n",
        "\n",
        "$$ [78.04; 81.96]$$"
      ]
    },
    {
      "cell_type": "markdown",
      "metadata": {
        "id": "zIjWpeIhOrtG"
      },
      "source": [
        "**Задание 2** \n",
        "\n",
        "В результате 10 независимых измерений некоторой величины X, выполненных с одинаковой точностью, получены опытные данные: 6.9, 6.1, 6.2, 6.8, 7.5, 6.3, 6.4, 6.9, 6.7, 6.1 Предполагая, что результаты измерений подчинены нормальному закону распределения вероятностей, оценить истинное значение величины X при помощи доверительного интервала, покрывающего это значение с доверительной вероятностью 0,95. "
      ]
    },
    {
      "cell_type": "markdown",
      "metadata": {
        "id": "etLHi2beOsf3"
      },
      "source": [
        "**Решение**"
      ]
    },
    {
      "cell_type": "markdown",
      "metadata": {
        "id": "6099xC4VO2gS"
      },
      "source": [
        "Обозначим известные данные:"
      ]
    },
    {
      "cell_type": "code",
      "metadata": {
        "id": "f7eJd_-ePOAh",
        "colab": {
          "base_uri": "https://localhost:8080/"
        },
        "outputId": "8a74df87-73e3-484c-bf7a-fd0de99f7021"
      },
      "source": [
        "import numpy as np\n",
        "import pandas as pd\n",
        "df = pd.DataFrame({'values' : [6.9, 6.1, 6.2, 6.8, 7.5, 6.3, 6.4, 6.9, 6.7, 6.1] })\n",
        "X = df['values'].mean()\n",
        "X"
      ],
      "execution_count": null,
      "outputs": [
        {
          "output_type": "execute_result",
          "data": {
            "text/plain": [
              "6.589999999999999"
            ]
          },
          "metadata": {
            "tags": []
          },
          "execution_count": 4
        }
      ]
    },
    {
      "cell_type": "code",
      "metadata": {
        "colab": {
          "base_uri": "https://localhost:8080/"
        },
        "id": "MVa3c8kqu-YK",
        "outputId": "34b06d2e-c2be-4711-e986-b026d12667d8"
      },
      "source": [
        "σ = df['values'].std(ddof=1)\n",
        "σ"
      ],
      "execution_count": null,
      "outputs": [
        {
          "output_type": "execute_result",
          "data": {
            "text/plain": [
              "0.4508017549014448"
            ]
          },
          "metadata": {
            "tags": []
          },
          "execution_count": 5
        }
      ]
    },
    {
      "cell_type": "markdown",
      "metadata": {
        "id": "YrQu2Yn1pydS"
      },
      "source": [
        "Обьем выборки равен 10, значит степеней свободы будет 9 и значение критерия возьмем из таблицы, тогда:\n",
        "\n",
        "Вычислим доверительный интервал по формуле:\n",
        "\n",
        "$$T_{1,2} = \\overline{X} \\pm  t_{a/2}\\cdot \\frac{σ}{\\sqrt{n}}  $$"
      ]
    },
    {
      "cell_type": "code",
      "metadata": {
        "colab": {
          "base_uri": "https://localhost:8080/"
        },
        "id": "4sXsacODvglC",
        "outputId": "9f26e5e0-0d4f-4716-ed40-a41ee56e6ca6"
      },
      "source": [
        "T1 = X - 2.262*(σ/np.sqrt(10))\n",
        "T1"
      ],
      "execution_count": null,
      "outputs": [
        {
          "output_type": "execute_result",
          "data": {
            "text/plain": [
              "6.267538255912425"
            ]
          },
          "metadata": {
            "tags": []
          },
          "execution_count": 6
        }
      ]
    },
    {
      "cell_type": "code",
      "metadata": {
        "id": "qi5VK5KwRZxZ",
        "colab": {
          "base_uri": "https://localhost:8080/"
        },
        "outputId": "263b0e26-e668-462a-e893-45f55b7019ee"
      },
      "source": [
        "T2 = X + 2.262*(σ/np.sqrt(10))\n",
        "T2"
      ],
      "execution_count": null,
      "outputs": [
        {
          "output_type": "execute_result",
          "data": {
            "text/plain": [
              "6.912461744087573"
            ]
          },
          "metadata": {
            "tags": []
          },
          "execution_count": 15
        }
      ]
    },
    {
      "cell_type": "markdown",
      "metadata": {
        "id": "9k0XHBWxwSEj"
      },
      "source": [
        "Доверительный интервал равен [6.268 ; 6.912]"
      ]
    },
    {
      "cell_type": "markdown",
      "metadata": {
        "id": "VFNSY3ZER_17"
      },
      "source": [
        "**Задание 3** \n",
        "\n",
        "Утверждается, что шарики для подшипников, изготовленные автоматическим станком, имеют средний диаметр 17 мм.\n",
        "Используя односторонний критерий с α=0,05, проверить эту гипотезу, если в выборке из n=100 шариков средний диаметр\n",
        "оказался равным 17.5 мм, а дисперсия известна и равна 4 кв.мм."
      ]
    },
    {
      "cell_type": "markdown",
      "metadata": {
        "id": "Dt6ymZBzScXF"
      },
      "source": [
        "**Решение**"
      ]
    },
    {
      "cell_type": "markdown",
      "metadata": {
        "id": "xjQNmP_-Sg2f"
      },
      "source": [
        "Сформулируем гипотезы:\n",
        "\n",
        "H0: $M = M0$\n",
        "\n",
        "H1: $M > M0$\n",
        "\n",
        "Поскольку известна дисперсия, то воспользуемся Z критерием. Расчетное $Z_{p}$ вычислим по формуле: \n",
        "\n",
        "$$Z_{p} = \\frac{M - M0}{\\sigma/\\sqrt{n}}$$"
      ]
    },
    {
      "cell_type": "code",
      "metadata": {
        "colab": {
          "base_uri": "https://localhost:8080/"
        },
        "id": "xDjJB7VxxAdl",
        "outputId": "47a6465a-ce5f-4415-a5fa-722d9676810d"
      },
      "source": [
        "M0 = 17\n",
        "M = 17.5\n",
        "a = 5\n",
        "n = 100\n",
        "σ = np.sqrt(4)\n",
        "Zp = (M - M0)/ (σ/np.sqrt(n))\n",
        "Zp"
      ],
      "execution_count": null,
      "outputs": [
        {
          "output_type": "execute_result",
          "data": {
            "text/plain": [
              "2.5"
            ]
          },
          "metadata": {
            "tags": []
          },
          "execution_count": 7
        }
      ]
    },
    {
      "cell_type": "markdown",
      "metadata": {
        "id": "GlgPrdapx4FS"
      },
      "source": [
        "Поскольку $α$ равно 5, то табличное значение расчитываем для 95%. "
      ]
    },
    {
      "cell_type": "code",
      "metadata": {
        "id": "KvZ4FVEMyXYN"
      },
      "source": [
        "Zt = 1.645"
      ],
      "execution_count": null,
      "outputs": []
    },
    {
      "cell_type": "markdown",
      "metadata": {
        "id": "BqhcmF55yc1E"
      },
      "source": [
        "Поскольку $Zp > Zt$, то отвергаем нулевую гипотезу на уровне значимости 5%."
      ]
    },
    {
      "cell_type": "markdown",
      "metadata": {
        "id": "l05EgKcvUtGr"
      },
      "source": [
        "**Задание 4**\n",
        "\n",
        "Продавец утверждает, что средний вес пачки печенья составляет 200 г.\n",
        "Из партии извлечена выборка из 10 пачек. Вес каждой пачки составляет:\n",
        "202, 203, 199, 197, 195, 201, 200, 204, 194, 190.\n",
        "Известно, что их веса распределены нормально.\n",
        "Верно ли утверждение продавца, если учитывать, что доверительная вероятность равна 99%?"
      ]
    },
    {
      "cell_type": "markdown",
      "metadata": {
        "id": "Zb-LM0NAWWzg"
      },
      "source": [
        "**Решение**"
      ]
    },
    {
      "cell_type": "markdown",
      "metadata": {
        "id": "2FxDrgnKWaL7"
      },
      "source": [
        "Обозначим все известные данные:"
      ]
    },
    {
      "cell_type": "code",
      "metadata": {
        "id": "f6fHb28BzRoZ"
      },
      "source": [
        "df = pd.DataFrame({'values' : [202, 203, 199, 197, 195, 201, 200, 204, 194, 190] })\n",
        "M0 = 200\n",
        "a = 1\n",
        "n = 10"
      ],
      "execution_count": null,
      "outputs": []
    },
    {
      "cell_type": "markdown",
      "metadata": {
        "id": "IgBfjUM5zabq"
      },
      "source": [
        "Расчитаем математическое ожидание, средние квадратическое отклонение:"
      ]
    },
    {
      "cell_type": "code",
      "metadata": {
        "colab": {
          "base_uri": "https://localhost:8080/"
        },
        "id": "Z5nxPOTe4Lq3",
        "outputId": "75b25508-aafe-4ffb-c661-9a920bbcc393"
      },
      "source": [
        "M = df['values'].mean()\n",
        "M"
      ],
      "execution_count": null,
      "outputs": [
        {
          "output_type": "execute_result",
          "data": {
            "text/plain": [
              "198.5"
            ]
          },
          "metadata": {
            "tags": []
          },
          "execution_count": 9
        }
      ]
    },
    {
      "cell_type": "code",
      "metadata": {
        "colab": {
          "base_uri": "https://localhost:8080/"
        },
        "id": "hlHLoeVZ4u04",
        "outputId": "0a9cd7f1-2d59-4595-e711-c0fc1f4b94eb"
      },
      "source": [
        "σ = df['values'].std(ddof=1)\n",
        "σ"
      ],
      "execution_count": null,
      "outputs": [
        {
          "output_type": "execute_result",
          "data": {
            "text/plain": [
              "4.453463071962462"
            ]
          },
          "metadata": {
            "tags": []
          },
          "execution_count": 10
        }
      ]
    },
    {
      "cell_type": "markdown",
      "metadata": {
        "id": "n0rkDG7m46lo"
      },
      "source": [
        "Используем критерий стьюдента. Расчитаем $tp$:"
      ]
    },
    {
      "cell_type": "code",
      "metadata": {
        "colab": {
          "base_uri": "https://localhost:8080/"
        },
        "id": "8teA557I512o",
        "outputId": "8762af23-e924-4296-a61e-d98c65af4c42"
      },
      "source": [
        "tp = (M - M0) / (σ/np.sqrt(n))\n",
        "tp"
      ],
      "execution_count": null,
      "outputs": [
        {
          "output_type": "execute_result",
          "data": {
            "text/plain": [
              "-1.0651074037450896"
            ]
          },
          "metadata": {
            "tags": []
          },
          "execution_count": 11
        }
      ]
    },
    {
      "cell_type": "markdown",
      "metadata": {
        "id": "su0RAKO76IHJ"
      },
      "source": [
        "Табличное значение критерия стьюдента расчитываем для $α/2 = 0.005$ и степени свободы 9. "
      ]
    },
    {
      "cell_type": "code",
      "metadata": {
        "id": "t9wfKuRI7H9F"
      },
      "source": [
        "tt = 3.25"
      ],
      "execution_count": null,
      "outputs": []
    },
    {
      "cell_type": "markdown",
      "metadata": {
        "id": "uqqm0EnCNM5r"
      },
      "source": [
        "Для отрицательных значений будет равно -3.25."
      ]
    },
    {
      "cell_type": "markdown",
      "metadata": {
        "id": "eh_u9oc07RVD"
      },
      "source": [
        "Поскольку $-1.065 > -3.25$, т.е. $tp > tt$, то H0 верна на уровне значимости 1%."
      ]
    }
  ]
}