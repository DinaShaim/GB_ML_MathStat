{
  "nbformat": 4,
  "nbformat_minor": 0,
  "metadata": {
    "colab": {
      "name": "Домашняя работа Матстат Урок 6.ipynb",
      "provenance": [],
      "collapsed_sections": [],
      "include_colab_link": true
    },
    "kernelspec": {
      "display_name": "Python 3",
      "language": "python",
      "name": "python3"
    }
  },
  "cells": [
    {
      "cell_type": "markdown",
      "metadata": {
        "id": "view-in-github",
        "colab_type": "text"
      },
      "source": [
        "<a href=\"https://colab.research.google.com/github/DinaShaim/GB_ML_MathStat/blob/main/%D0%94%D0%BE%D0%BC%D0%B0%D1%88%D0%BD%D1%8F%D1%8F_%D1%80%D0%B0%D0%B1%D0%BE%D1%82%D0%B0_%D0%9C%D0%B0%D1%82%D1%81%D1%82%D0%B0%D1%82_%D0%A3%D1%80%D0%BE%D0%BA_6.ipynb\" target=\"_parent\"><img src=\"https://colab.research.google.com/assets/colab-badge.svg\" alt=\"Open In Colab\"/></a>"
      ]
    },
    {
      "cell_type": "markdown",
      "metadata": {
        "id": "npwZYcsXzdm8"
      },
      "source": [
        "## Домашняя работа 5\n",
        "### Взаимосвязь величин. Параметрические и непараметрические показатели корреляции. Корреляционный анализ."
      ]
    },
    {
      "cell_type": "markdown",
      "metadata": {
        "id": "nyAZkmuJzdnE"
      },
      "source": [
        "**Задание 1** \n",
        "\n",
        "Даны значения величины заработной платы заемщиков банка (zp) и значения их поведенческого кредитного скоринга (ks):\n",
        "zp = [35, 45, 190, 200, 40, 70, 54, 150, 120, 110],\n",
        "ks = [401, 574, 874, 919, 459, 739, 653, 902, 746, 832].\n",
        "Найдите ковариацию этих двух величин с помощью элементарных действий, а затем с помощью функции cov из numpy\n",
        "Полученные значения должны быть равны.\n",
        "Найдите коэффициент корреляции Пирсона с помощью ковариации и среднеквадратичных отклонений двух признаков,\n",
        "а затем с использованием функций из библиотек numpy и pandas."
      ]
    },
    {
      "cell_type": "markdown",
      "metadata": {
        "id": "QtFn-eBlzdo-"
      },
      "source": [
        "**Решение**\n",
        "\n"
      ]
    },
    {
      "cell_type": "markdown",
      "metadata": {
        "id": "ExcHZPqcNfcg"
      },
      "source": [
        "Ковариация равна математическому ожиданию произведения отклонений случайных величин:\n",
        "\n",
        "$$cov_{XY} = M(XY) - M(X)M(Y)$$\n"
      ]
    },
    {
      "cell_type": "code",
      "metadata": {
        "id": "lU_OLokiSME-"
      },
      "source": [
        "import numpy as np"
      ],
      "execution_count": 3,
      "outputs": []
    },
    {
      "cell_type": "code",
      "metadata": {
        "colab": {
          "base_uri": "https://localhost:8080/"
        },
        "id": "f4wbeS1uRp-T",
        "outputId": "5aa70101-20ff-4f3d-b79f-9f9dad5cd6ee"
      },
      "source": [
        "zp = np.array([35, 45, 190, 200, 40, 70, 54, 150, 120, 110])\n",
        "zp"
      ],
      "execution_count": 7,
      "outputs": [
        {
          "output_type": "execute_result",
          "data": {
            "text/plain": [
              "array([ 35,  45, 190, 200,  40,  70,  54, 150, 120, 110])"
            ]
          },
          "metadata": {
            "tags": []
          },
          "execution_count": 7
        }
      ]
    },
    {
      "cell_type": "code",
      "metadata": {
        "colab": {
          "base_uri": "https://localhost:8080/"
        },
        "id": "aSxAE0zqSA1P",
        "outputId": "b46df25d-f3bb-478d-c2f8-c138bea01ec3"
      },
      "source": [
        "ks = np.array([401, 574, 874, 919, 459, 739, 653, 902, 746, 832])\n",
        "ks"
      ],
      "execution_count": 8,
      "outputs": [
        {
          "output_type": "execute_result",
          "data": {
            "text/plain": [
              "array([401, 574, 874, 919, 459, 739, 653, 902, 746, 832])"
            ]
          },
          "metadata": {
            "tags": []
          },
          "execution_count": 8
        }
      ]
    },
    {
      "cell_type": "code",
      "metadata": {
        "colab": {
          "base_uri": "https://localhost:8080/"
        },
        "id": "UjYUoHUwSI0t",
        "outputId": "17fccc31-53ea-4452-bcb3-630b0fb97335"
      },
      "source": [
        "cov = np.mean(zp*ks) - np.mean(zp)*np.mean(ks)\n",
        "cov"
      ],
      "execution_count": 9,
      "outputs": [
        {
          "output_type": "execute_result",
          "data": {
            "text/plain": [
              "9157.839999999997"
            ]
          },
          "metadata": {
            "tags": []
          },
          "execution_count": 9
        }
      ]
    },
    {
      "cell_type": "code",
      "metadata": {
        "colab": {
          "base_uri": "https://localhost:8080/"
        },
        "id": "aZLjvRWzSzY1",
        "outputId": "30aae30d-f56e-4846-a9b7-df77e42d08f0"
      },
      "source": [
        "np.cov(zp, ks, ddof = 0)"
      ],
      "execution_count": 13,
      "outputs": [
        {
          "output_type": "execute_result",
          "data": {
            "text/plain": [
              "array([[ 3494.64,  9157.84],\n",
              "       [ 9157.84, 30468.89]])"
            ]
          },
          "metadata": {
            "tags": []
          },
          "execution_count": 13
        }
      ]
    },
    {
      "cell_type": "markdown",
      "metadata": {
        "id": "sAaZtc__T4jV"
      },
      "source": [
        "Зная ковариацию и среднее квадратичное отклонение каждого из двух признаков, можно вычислить коэффициент корреляции Пирсона:\n",
        "\n",
        "$$r_{XY} = \\frac{cov_{XY}}{\\sigma_{X}\\sigma_{Y}}$$"
      ]
    },
    {
      "cell_type": "code",
      "metadata": {
        "colab": {
          "base_uri": "https://localhost:8080/"
        },
        "id": "Cxp_apOYT3ta",
        "outputId": "67aeb465-6ffb-4dc8-9378-c81dfbf0d85c"
      },
      "source": [
        "r = cov / (np.std(zp)*np.std(ks))\n",
        "r"
      ],
      "execution_count": 14,
      "outputs": [
        {
          "output_type": "execute_result",
          "data": {
            "text/plain": [
              "0.8874900920739158"
            ]
          },
          "metadata": {
            "tags": []
          },
          "execution_count": 14
        }
      ]
    },
    {
      "cell_type": "code",
      "metadata": {
        "colab": {
          "base_uri": "https://localhost:8080/"
        },
        "id": "LRtsfZDJUSzt",
        "outputId": "9833da5a-bc28-4e6b-a15d-165439f86996"
      },
      "source": [
        "r1 = np.corrcoef(zp,ks)\n",
        "r1"
      ],
      "execution_count": 16,
      "outputs": [
        {
          "output_type": "execute_result",
          "data": {
            "text/plain": [
              "array([[1.        , 0.88749009],\n",
              "       [0.88749009, 1.        ]])"
            ]
          },
          "metadata": {
            "tags": []
          },
          "execution_count": 16
        }
      ]
    },
    {
      "cell_type": "markdown",
      "metadata": {
        "id": "zIjWpeIhOrtG"
      },
      "source": [
        "**Задание 2** \n",
        "\n",
        "Измерены значения IQ выборки студентов,\n",
        "обучающихся в местных технических вузах:\n",
        "131, 125, 115, 122, 131, 115, 107, 99, 125, 111.\n",
        "Известно, что в генеральной совокупности IQ распределен нормально.\n",
        "Найдите доверительный интервал для математического ожидания с надежностью 0.95."
      ]
    },
    {
      "cell_type": "markdown",
      "metadata": {
        "id": "etLHi2beOsf3"
      },
      "source": [
        "**Решение**"
      ]
    },
    {
      "cell_type": "markdown",
      "metadata": {
        "id": "6099xC4VO2gS"
      },
      "source": [
        "Обозначим известные данные:"
      ]
    },
    {
      "cell_type": "code",
      "metadata": {
        "id": "f7eJd_-ePOAh",
        "colab": {
          "base_uri": "https://localhost:8080/"
        },
        "outputId": "85b24b6b-93aa-4560-8199-d93cf9390fa1"
      },
      "source": [
        "import pandas as pd\n",
        "df = pd.DataFrame({'IQ' : [131, 125, 115, 122, 131, 115, 107, 99, 125, 111] })\n",
        "X = df['IQ'].mean()\n",
        "X"
      ],
      "execution_count": 17,
      "outputs": [
        {
          "output_type": "execute_result",
          "data": {
            "text/plain": [
              "118.1"
            ]
          },
          "metadata": {
            "tags": []
          },
          "execution_count": 17
        }
      ]
    },
    {
      "cell_type": "code",
      "metadata": {
        "colab": {
          "base_uri": "https://localhost:8080/"
        },
        "id": "MVa3c8kqu-YK",
        "outputId": "a7a58470-bd28-4a3e-c5fe-f04fa9870976"
      },
      "source": [
        "σ = df['IQ'].std(ddof=1)\n",
        "σ"
      ],
      "execution_count": 18,
      "outputs": [
        {
          "output_type": "execute_result",
          "data": {
            "text/plain": [
              "10.54566788359614"
            ]
          },
          "metadata": {
            "tags": []
          },
          "execution_count": 18
        }
      ]
    },
    {
      "cell_type": "markdown",
      "metadata": {
        "id": "YrQu2Yn1pydS"
      },
      "source": [
        "Обьем выборки равен 10, значит степеней свободы будет 9 и значение критерия возьмем из таблицы, тогда:\n",
        "\n",
        "Вычислим доверительный интервал по формуле:\n",
        "\n",
        "$$T_{1,2} = \\overline{X} \\pm  t_{a/2}\\cdot \\frac{σ}{\\sqrt{n}}  $$"
      ]
    },
    {
      "cell_type": "code",
      "metadata": {
        "colab": {
          "base_uri": "https://localhost:8080/"
        },
        "id": "4sXsacODvglC",
        "outputId": "b55d1ccc-ed3e-4f6a-a80d-58ef4d2592bd"
      },
      "source": [
        "T1 = X - 2.262*(σ/np.sqrt(10))\n",
        "T1"
      ],
      "execution_count": 19,
      "outputs": [
        {
          "output_type": "execute_result",
          "data": {
            "text/plain": [
              "110.55660776308164"
            ]
          },
          "metadata": {
            "tags": []
          },
          "execution_count": 19
        }
      ]
    },
    {
      "cell_type": "code",
      "metadata": {
        "id": "qi5VK5KwRZxZ",
        "colab": {
          "base_uri": "https://localhost:8080/"
        },
        "outputId": "0bfb8f0a-bc03-4dda-a7de-56a0fcfa765c"
      },
      "source": [
        "T2 = X + 2.262*(σ/np.sqrt(10))\n",
        "T2"
      ],
      "execution_count": 20,
      "outputs": [
        {
          "output_type": "execute_result",
          "data": {
            "text/plain": [
              "125.64339223691834"
            ]
          },
          "metadata": {
            "tags": []
          },
          "execution_count": 20
        }
      ]
    },
    {
      "cell_type": "markdown",
      "metadata": {
        "id": "9k0XHBWxwSEj"
      },
      "source": [
        "Доверительный интервал равен [110.55 ; 125.64]"
      ]
    },
    {
      "cell_type": "markdown",
      "metadata": {
        "id": "VFNSY3ZER_17"
      },
      "source": [
        "**Задание 3** \n",
        "\n",
        "Известно, что рост футболистов в сборной распределен нормально\n",
        "с дисперсией генеральной совокупности, равной 25 кв.см. Объем выборки равен 27,\n",
        "среднее выборочное составляет 174.2. Найдите доверительный интервал для математического\n",
        "ожидания с надежностью 0.95."
      ]
    },
    {
      "cell_type": "code",
      "metadata": {
        "id": "6OTr5GAOX0NR"
      },
      "source": [
        ""
      ],
      "execution_count": null,
      "outputs": []
    },
    {
      "cell_type": "markdown",
      "metadata": {
        "id": "Dt6ymZBzScXF"
      },
      "source": [
        "**Решение**"
      ]
    },
    {
      "cell_type": "markdown",
      "metadata": {
        "id": "xjQNmP_-Sg2f"
      },
      "source": [
        "Вычислим доверительный интервал по формуле:\n",
        "\n",
        "$$T_{1,2} = \\overline{X} \\pm  Z_{a/2}\\cdot \\frac{σ}{\\sqrt{n}}  $$\n",
        "\n",
        "$$T_{1,2} = 80 \\pm  1.96\\cdot \\frac{16}{16}  $$\n",
        "\n",
        "Доверительнвй интерал равен: \n",
        "\n",
        "$$ [78.04; 81.96]$$"
      ]
    },
    {
      "cell_type": "code",
      "metadata": {
        "id": "xDjJB7VxxAdl"
      },
      "source": [
        "X = 174.2\n",
        "D = 25\n",
        "n = 27\n",
        "σ = np.sqrt(D)"
      ],
      "execution_count": 21,
      "outputs": []
    },
    {
      "cell_type": "code",
      "metadata": {
        "colab": {
          "base_uri": "https://localhost:8080/"
        },
        "id": "WXlvCgyXWxdJ",
        "outputId": "f79d2c25-ffc0-416a-ae01-98275db68184"
      },
      "source": [
        "T1 = X - 1.96*(σ/np.sqrt(n))\n",
        "T1"
      ],
      "execution_count": 22,
      "outputs": [
        {
          "output_type": "execute_result",
          "data": {
            "text/plain": [
              "172.31398912064722"
            ]
          },
          "metadata": {
            "tags": []
          },
          "execution_count": 22
        }
      ]
    },
    {
      "cell_type": "code",
      "metadata": {
        "colab": {
          "base_uri": "https://localhost:8080/"
        },
        "id": "qXMKQyLKXLT9",
        "outputId": "8143de2b-2ac1-4dce-e9f5-8e6004dcd6a8"
      },
      "source": [
        "T2 = X + 1.96*(σ/np.sqrt(n))\n",
        "T2"
      ],
      "execution_count": 23,
      "outputs": [
        {
          "output_type": "execute_result",
          "data": {
            "text/plain": [
              "176.08601087935276"
            ]
          },
          "metadata": {
            "tags": []
          },
          "execution_count": 23
        }
      ]
    },
    {
      "cell_type": "markdown",
      "metadata": {
        "id": "GlgPrdapx4FS"
      },
      "source": [
        "Доверительнвй интерал равен: \n",
        "\n",
        "$ [172.31; 176.08]$"
      ]
    }
  ]
}