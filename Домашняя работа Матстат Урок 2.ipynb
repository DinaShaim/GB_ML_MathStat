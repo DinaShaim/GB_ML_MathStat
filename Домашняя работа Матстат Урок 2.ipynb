{
  "nbformat": 4,
  "nbformat_minor": 0,
  "metadata": {
    "colab": {
      "name": "Домашняя работа Матстат Урок 2.ipynb",
      "provenance": [],
      "collapsed_sections": [],
      "include_colab_link": true
    },
    "kernelspec": {
      "display_name": "Python 3",
      "language": "python",
      "name": "python3"
    }
  },
  "cells": [
    {
      "cell_type": "markdown",
      "metadata": {
        "id": "view-in-github",
        "colab_type": "text"
      },
      "source": [
        "<a href=\"https://colab.research.google.com/github/DinaShaim/GB_ML_MathStat/blob/main/%D0%94%D0%BE%D0%BC%D0%B0%D1%88%D0%BD%D1%8F%D1%8F%20%D1%80%D0%B0%D0%B1%D0%BE%D1%82%D0%B0%20%D0%9C%D0%B0%D1%82%D1%81%D1%82%D0%B0%D1%82%20%D0%A3%D1%80%D0%BE%D0%BA%202.ipynb\" target=\"_parent\"><img src=\"https://colab.research.google.com/assets/colab-badge.svg\" alt=\"Open In Colab\"/></a>"
      ]
    },
    {
      "cell_type": "markdown",
      "metadata": {
        "id": "npwZYcsXzdm8"
      },
      "source": [
        "## Домашняя работа 2\n",
        "### Дискретные случайные величины. Закон распределения вероятностей. \n",
        "### Биномиальный закон распределения. Распределение Пуассона"
      ]
    },
    {
      "cell_type": "markdown",
      "metadata": {
        "id": "nyAZkmuJzdnE"
      },
      "source": [
        "**Задание 1** \n",
        "\n",
        "Вероятность того, что стрелок попадет в мишень, выстрелив один раз, равна 0.8. Стрелок выстрелил 100 раз. Найдите вероятность того, что стрелок попадет в цель ровно 85 раз."
      ]
    },
    {
      "cell_type": "markdown",
      "metadata": {
        "id": "QtFn-eBlzdo-"
      },
      "source": [
        "**Решение**\n",
        "\n",
        "Число наступления события — это дискретная величина из отрезка [0, $n$]. Вероятности возможных значений этой величины определяются по формуле Бернулли:"
      ]
    },
    {
      "cell_type": "markdown",
      "metadata": {
        "id": "TkoOchWqzdpB"
      },
      "source": [
        "$$P_n(X=k) = C_n^k p^k q^{n-k}$$"
      ]
    },
    {
      "cell_type": "markdown",
      "metadata": {
        "id": "Sb0K-V-jzdpE"
      },
      "source": [
        "где $p$ — это вероятность наступления события $A$ в $n$ независимых испытаниях, a $q = 1 - p$."
      ]
    },
    {
      "cell_type": "markdown",
      "metadata": {
        "id": "VfanwIfwVBxB"
      },
      "source": [
        "Тогда для нашей задачи $n = 100$, $k = 85$, $p = 0.8$, $q = 0.2$. \n",
        "Для решения задачи необходимо сначала создать функцию, подсчитывающую количество возможных сочетаний из $k$ элементов, выбранных из множества, содержащего $n$ различных элементов:"
      ]
    },
    {
      "cell_type": "code",
      "metadata": {
        "id": "6VzwX_ByWceh"
      },
      "source": [
        "import numpy as np\n",
        "from math import factorial\n",
        "def combinations(k, n):\n",
        "    return int(factorial(n) / (factorial(k) * factorial(n - k)))"
      ],
      "execution_count": null,
      "outputs": []
    },
    {
      "cell_type": "markdown",
      "metadata": {
        "id": "AWOGm8xLgA9b"
      },
      "source": [
        "Для удобства вычисления вероятности создадим функцию, вычисляющую вероятность по формуле Бернулли:"
      ]
    },
    {
      "cell_type": "code",
      "metadata": {
        "id": "TJAzx2r-gOCZ"
      },
      "source": [
        "def bernoulli(k, n, p):\n",
        "  q = 1 -p\n",
        "  return combinations(k, n)*(p**k)*(q**(n-k))\n",
        "\n",
        "  "
      ],
      "execution_count": null,
      "outputs": []
    },
    {
      "cell_type": "markdown",
      "metadata": {
        "id": "k1ITbfy1Wd6M"
      },
      "source": [
        "Теперь можно вычислить вероятность того, что стрелок попадет в цель ровно 85 раз:"
      ]
    },
    {
      "cell_type": "code",
      "metadata": {
        "id": "LZIzBNqbYbTP",
        "outputId": "888ff9b6-8686-4542-9c50-e7b9c4e3b645",
        "colab": {
          "base_uri": "https://localhost:8080/"
        }
      },
      "source": [
        "P = bernoulli(85, 100, 0.8)\n",
        "print(P)"
      ],
      "execution_count": null,
      "outputs": [
        {
          "output_type": "stream",
          "text": [
            "0.048061793700746355\n"
          ],
          "name": "stdout"
        }
      ]
    },
    {
      "cell_type": "markdown",
      "metadata": {
        "id": "Gt8VyreKWedz"
      },
      "source": [
        "**Задание 2** \n",
        "\n",
        "Вероятность того, что лампочка перегорит в течение первого дня эксплуатации, равна 0.0004. В жилом комплексе после ремонта в один день включили 5000 новых лампочек. \n",
        "\n",
        "A) Какова вероятность, что ни одна из них не перегорит в первый день? \n",
        "\n",
        "B) Какова вероятность, что перегорят ровно две?"
      ]
    },
    {
      "cell_type": "markdown",
      "metadata": {
        "id": "N5sKWGxhzdpT"
      },
      "source": [
        "**Решение**\n",
        "\n"
      ]
    },
    {
      "cell_type": "markdown",
      "metadata": {
        "id": "yF0eGp9Yzdp7"
      },
      "source": [
        "Поскольку проводится большое количество испытаний $n = 5000$ и при этом вероятность $p$ появления события $A$ в отдельном испытании мала и равна 0.0004, то применим формулу Пуассона для вычисления вероятности того, что событие произойдет $m$ раз в $n$ испытаниях:"
      ]
    },
    {
      "cell_type": "markdown",
      "metadata": {
        "id": "Z153O9Ptzdp-"
      },
      "source": [
        "$$P_m \\approx \\frac{\\lambda^m}{m!}e^{-\\lambda}$$"
      ]
    },
    {
      "cell_type": "markdown",
      "metadata": {
        "id": "9h6NXlgbzdqC"
      },
      "source": [
        "где $λ = np$."
      ]
    },
    {
      "cell_type": "markdown",
      "metadata": {
        "id": "ufDFIlKScbf5"
      },
      "source": [
        "Для удобства создадим функцию, вычисляющую вероятность по формуле Пуассона:"
      ]
    },
    {
      "cell_type": "code",
      "metadata": {
        "id": "eOlZs5t7cmGy"
      },
      "source": [
        "def poisson(m, n, p):\n",
        "  lambda_ = n * p\n",
        "  return (lambda_**m / np.math.factorial(m)) * np.exp(-lambda_)"
      ],
      "execution_count": null,
      "outputs": []
    },
    {
      "cell_type": "markdown",
      "metadata": {
        "id": "87dGsTu-bVrw"
      },
      "source": [
        "A) Вероятность, что ни одна лампочка не перегорит в первый день означает, что событие не наступит и $m = 0$ и тогда подставим все данные в формулу и вычислим вероятность: "
      ]
    },
    {
      "cell_type": "code",
      "metadata": {
        "id": "iTEafzYpbvar",
        "outputId": "292353c9-3a11-4f9f-abf2-7390c5cf0e19",
        "colab": {
          "base_uri": "https://localhost:8080/"
        }
      },
      "source": [
        "P = poisson(0, 5000, 0.0004)\n",
        "print(P)"
      ],
      "execution_count": null,
      "outputs": [
        {
          "output_type": "stream",
          "text": [
            "0.1353352832366127\n"
          ],
          "name": "stdout"
        }
      ]
    },
    {
      "cell_type": "markdown",
      "metadata": {
        "id": "2IRDSbP1cSUT"
      },
      "source": [
        "B) Вероятность, что перегорят две лампочки в первый день означает, что $m = 2$, тогда подставим все данные в формулу и вычислим вероятность: "
      ]
    },
    {
      "cell_type": "code",
      "metadata": {
        "id": "9cqTgUypeamX",
        "outputId": "3b49316c-4faf-40e2-c6ac-fde31c61d956",
        "colab": {
          "base_uri": "https://localhost:8080/"
        }
      },
      "source": [
        "P = poisson(2, 5000, 0.0004)\n",
        "print(P)"
      ],
      "execution_count": null,
      "outputs": [
        {
          "output_type": "stream",
          "text": [
            "0.2706705664732254\n"
          ],
          "name": "stdout"
        }
      ]
    },
    {
      "cell_type": "markdown",
      "metadata": {
        "id": "T4CSpeEvfSJd"
      },
      "source": [
        "**Задание 3** \n",
        "\n",
        "Монету подбросили 144 раза. Какова вероятность, что орел выпадет ровно 70 раз?"
      ]
    },
    {
      "cell_type": "markdown",
      "metadata": {
        "id": "zEIiuXlkfYyM"
      },
      "source": [
        "**Решение**"
      ]
    },
    {
      "cell_type": "markdown",
      "metadata": {
        "id": "zK3aIuprfcV3"
      },
      "source": [
        "Поскольку проводится небольшое количество испытаний $n = 144$ и при этом вероятность $p$ появления события $A$ в отдельном испытании равна 0.5, то будем применять формулу Бернулли для вычисления вероятности того, что событие произойдет $k = 70$ раз в $n$ испытаниях:"
      ]
    },
    {
      "cell_type": "code",
      "metadata": {
        "id": "OEaX5oZuf3Yj",
        "outputId": "806ba674-8f58-4cdc-db5c-3dd86aed4958",
        "colab": {
          "base_uri": "https://localhost:8080/"
        }
      },
      "source": [
        "P = bernoulli(70, 144, 0.5)\n",
        "print(P)"
      ],
      "execution_count": null,
      "outputs": [
        {
          "output_type": "stream",
          "text": [
            "0.06281178035144776\n"
          ],
          "name": "stdout"
        }
      ]
    },
    {
      "cell_type": "markdown",
      "metadata": {
        "id": "zBOusHFaWP2E"
      },
      "source": [
        "**Задание 4** \n",
        "\n",
        "В первом ящике находится 10 мячей, из которых 7 - белые. Во втором ящике - 11 мячей, из которых 9 белых. Из каждого ящика вытаскивают случайным образом по два мяча. \n",
        "\n",
        "A) Какова вероятность того, что все мячи белые? \n",
        "\n",
        "B) Какова вероятность того, что ровно два мяча белые? \n",
        "\n",
        "C) Какова вероятность того, что хотя бы один мяч белый?"
      ]
    },
    {
      "cell_type": "markdown",
      "metadata": {
        "id": "jmXG-hRaWW-9"
      },
      "source": [
        "**Решение**"
      ]
    },
    {
      "cell_type": "markdown",
      "metadata": {
        "id": "6VVNjq7NgoBH"
      },
      "source": [
        "**A)** В данном случае требуется найти вероятность, что из первого ящика вытаскиваются 2 белых мяча и из второго ящика тоже вытаскиваются 2 белых мяча. После соответствующие вероятности нужно будет перемножить, поскольку необходимо выполнение этих событий одновременно."
      ]
    },
    {
      "cell_type": "code",
      "metadata": {
        "id": "yk_fw27xhGMJ",
        "outputId": "fee71e53-12a0-4797-f43f-704de5fd217c",
        "colab": {
          "base_uri": "https://localhost:8080/"
        }
      },
      "source": [
        "P1 = combinations(2, 7)/combinations(2,10) * combinations(2, 9)/combinations(2, 11)\n",
        "print(P1)"
      ],
      "execution_count": null,
      "outputs": [
        {
          "output_type": "stream",
          "text": [
            "0.3054545454545455\n"
          ],
          "name": "stdout"
        }
      ]
    },
    {
      "cell_type": "markdown",
      "metadata": {
        "id": "Azz6z8D7ikSY"
      },
      "source": [
        "**B)** Вытащить ровно 2 мяча возможно следующими комбинациями: \n",
        "\n",
        "1) 2 белых мяча из первого ящика \n",
        "\n",
        "2) 1 белый мяч из первого ящика и 1 белый мяч из второго ящика\n",
        "\n",
        "3) 2 белых мяча из второго ящика\n",
        "\n",
        "Для каждого случая аналогично расчитаем вероятность."
      ]
    },
    {
      "cell_type": "code",
      "metadata": {
        "id": "3tIWGMi6jSM4",
        "outputId": "86716b20-21c4-4ed4-995a-91285d9be2f8",
        "colab": {
          "base_uri": "https://localhost:8080/"
        }
      },
      "source": [
        "P2 = combinations(2, 7)*combinations(0, 3)/combinations(2,10) * combinations(0, 9)*combinations(2, 2)/combinations(2, 11)\n",
        "print(P2)"
      ],
      "execution_count": null,
      "outputs": [
        {
          "output_type": "stream",
          "text": [
            "0.008484848484848486\n"
          ],
          "name": "stdout"
        }
      ]
    },
    {
      "cell_type": "code",
      "metadata": {
        "id": "bQIPdq9vj2O8",
        "outputId": "8a2882dd-d8e7-42da-ecca-6d6d39741d3c",
        "colab": {
          "base_uri": "https://localhost:8080/"
        }
      },
      "source": [
        "P3 = combinations(1, 7)*combinations(1, 3)/combinations(2,10) * combinations(1, 9)*combinations(1, 2)/combinations(2, 11)\n",
        "print(P3)"
      ],
      "execution_count": null,
      "outputs": [
        {
          "output_type": "stream",
          "text": [
            "0.15272727272727274\n"
          ],
          "name": "stdout"
        }
      ]
    },
    {
      "cell_type": "code",
      "metadata": {
        "id": "05dybDBJj_4b",
        "outputId": "56cf0eda-6769-4ca0-dccb-a9ba2932e1a5",
        "colab": {
          "base_uri": "https://localhost:8080/"
        }
      },
      "source": [
        "P4 = combinations(0, 7)*combinations(2, 3)/combinations(2,10) * combinations(2, 9)*combinations(0, 2)/combinations(2, 11)\n",
        "print(P4)"
      ],
      "execution_count": null,
      "outputs": [
        {
          "output_type": "stream",
          "text": [
            "0.04363636363636363\n"
          ],
          "name": "stdout"
        }
      ]
    },
    {
      "cell_type": "markdown",
      "metadata": {
        "id": "uZzCasiLkYnu"
      },
      "source": [
        "Теперь чтобы расчитать вероятность вытащить ровно 2 мяча необходимо сложить получившиеся вероятности:"
      ]
    },
    {
      "cell_type": "code",
      "metadata": {
        "id": "vlC1WVCvknoE",
        "outputId": "9671afdb-c16d-43e5-84c2-cb5fe74d6d97",
        "colab": {
          "base_uri": "https://localhost:8080/"
        }
      },
      "source": [
        "P = P2 + P3 + P4\n",
        "print(P)"
      ],
      "execution_count": null,
      "outputs": [
        {
          "output_type": "stream",
          "text": [
            "0.20484848484848486\n"
          ],
          "name": "stdout"
        }
      ]
    },
    {
      "cell_type": "markdown",
      "metadata": {
        "id": "9Usf9tENk4ow"
      },
      "source": [
        "**C)** Возможные комбинации, удовлетворяющие условия вытащить хотя бы 1 белый мяч следующие:\n",
        "\n",
        "1) 1 белый мяч из первого ящика и 0 белых мячей из второго ящика\n",
        "\n",
        "2) 0 белый мячей из первого ящика и 1 белый мяч из второго ящика\n",
        "\n",
        "3) 1 белый мяч из первого ящика и 1 белый мяч из второго ящика\n",
        "\n",
        "4) 2 белых мяча из первого ящика и 0 белых мячей из второго ящика\n",
        "\n",
        "5) 0 белый мячей из первого ящика и 2 белых мяча из второго ящика\n",
        "\n",
        "6) 2 белых мяча из первого ящика и 2 белых мяча из второго ящика\n",
        "\n",
        "7) 2 белых мяча из первого ящика и 1 белый мяч из второго ящика\n",
        "\n",
        "8) 1 белых мяч из первого ящика и 2 белых мяча из второго ящика\n",
        "\n",
        "Причем в предыдущих пунктах задачи уже посчитаны 4 варианта. Вычислим оставшиеся варианты: "
      ]
    },
    {
      "cell_type": "code",
      "metadata": {
        "id": "D_i2odpfoLmb",
        "outputId": "01cf60b1-430f-4dc4-e633-df78804abcae",
        "colab": {
          "base_uri": "https://localhost:8080/"
        }
      },
      "source": [
        "P5 = combinations(1, 7)*combinations(1, 3)/combinations(2,10) * combinations(0, 9)*combinations(2, 2)/combinations(2, 11)\n",
        "print(P5)"
      ],
      "execution_count": null,
      "outputs": [
        {
          "output_type": "stream",
          "text": [
            "0.008484848484848486\n"
          ],
          "name": "stdout"
        }
      ]
    },
    {
      "cell_type": "code",
      "metadata": {
        "id": "1phhFrRWohwV",
        "outputId": "92ef4b98-8aa4-41d0-98c7-8f5b6d7b4483",
        "colab": {
          "base_uri": "https://localhost:8080/"
        }
      },
      "source": [
        "P6 = combinations(0, 7)*combinations(2, 3)/combinations(2,10) * combinations(1, 9)*combinations(1, 2)/combinations(2, 11)\n",
        "print(P6)"
      ],
      "execution_count": null,
      "outputs": [
        {
          "output_type": "stream",
          "text": [
            "0.021818181818181816\n"
          ],
          "name": "stdout"
        }
      ]
    },
    {
      "cell_type": "code",
      "metadata": {
        "id": "pa9WrQqbpfVk",
        "outputId": "3b6463c8-2ed7-46ac-851a-6c058deeeb6f",
        "colab": {
          "base_uri": "https://localhost:8080/"
        }
      },
      "source": [
        "P7 = combinations(1, 7)*combinations(1, 3)/combinations(2,10) * combinations(2, 9)*combinations(0, 2)/combinations(2, 11)\n",
        "print(P7)"
      ],
      "execution_count": null,
      "outputs": [
        {
          "output_type": "stream",
          "text": [
            "0.3054545454545455\n"
          ],
          "name": "stdout"
        }
      ]
    },
    {
      "cell_type": "code",
      "metadata": {
        "id": "v9e712HrpnkL",
        "outputId": "20e3a259-3150-43af-cdc4-de6059456651",
        "colab": {
          "base_uri": "https://localhost:8080/"
        }
      },
      "source": [
        "P8 = combinations(2, 7)*combinations(0, 3)/combinations(2,10) * combinations(1, 9)*combinations(1, 2)/combinations(2, 11)\n",
        "print(P8)"
      ],
      "execution_count": null,
      "outputs": [
        {
          "output_type": "stream",
          "text": [
            "0.15272727272727274\n"
          ],
          "name": "stdout"
        }
      ]
    },
    {
      "cell_type": "markdown",
      "metadata": {
        "id": "VYuNUzb0oqlE"
      },
      "source": [
        "Теперь посчитаем общую вероятность:"
      ]
    },
    {
      "cell_type": "code",
      "metadata": {
        "id": "cuHDqsxeoulF",
        "outputId": "e91c7666-9e2b-481f-b593-501b8a832692",
        "colab": {
          "base_uri": "https://localhost:8080/"
        }
      },
      "source": [
        "P= P1 + P2 + P3 + P4 + P5 + P6 + P7 + P8\n",
        "print(P)"
      ],
      "execution_count": null,
      "outputs": [
        {
          "output_type": "stream",
          "text": [
            "0.9987878787878789\n"
          ],
          "name": "stdout"
        }
      ]
    },
    {
      "cell_type": "markdown",
      "metadata": {
        "id": "hJEVUwKPp9b5"
      },
      "source": [
        "**Второй способ решения пункта C)**\n",
        "\n",
        "Задачу можно рассмотреть, что это все комбинации, за исключением комбинации, в которой вытаскаваются все не белые мячи, т.е. рассчитаем вероятность выпадения всех не белых мячей и вычтем ее из 1:"
      ]
    },
    {
      "cell_type": "code",
      "metadata": {
        "id": "PCSfTTCeqkPZ",
        "outputId": "2908d50d-4157-423d-fccb-bf3809bef397",
        "colab": {
          "base_uri": "https://localhost:8080/"
        }
      },
      "source": [
        "P9 = combinations(0, 7)*combinations(2, 3)/combinations(2,10) * combinations(0, 9)*combinations(2, 2)/combinations(2, 11)\n",
        "print(P9)"
      ],
      "execution_count": null,
      "outputs": [
        {
          "output_type": "stream",
          "text": [
            "0.0012121212121212121\n"
          ],
          "name": "stdout"
        }
      ]
    },
    {
      "cell_type": "code",
      "metadata": {
        "id": "oeA_MxjcqsFX",
        "outputId": "a7f13e7b-3eca-4526-bad7-6c1f1df2dd22",
        "colab": {
          "base_uri": "https://localhost:8080/"
        }
      },
      "source": [
        "P = 1 - P9\n",
        "print(P)"
      ],
      "execution_count": null,
      "outputs": [
        {
          "output_type": "stream",
          "text": [
            "0.9987878787878788\n"
          ],
          "name": "stdout"
        }
      ]
    }
  ]
}